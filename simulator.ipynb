{
 "cells": [
  {
   "cell_type": "code",
   "execution_count": 1,
   "id": "5e5238d9-62d0-4bf3-bbf3-2185e0d32cd7",
   "metadata": {},
   "outputs": [],
   "source": [
    "%load_ext autoreload\n",
    "%autoreload 2"
   ]
  },
  {
   "cell_type": "code",
   "execution_count": 342,
   "id": "66057732-12a6-483e-b416-a92376c622d5",
   "metadata": {},
   "outputs": [],
   "source": [
    "import pandas as pd\n",
    "import numpy as np\n",
    "import yfinance as yf\n",
    "import datetime\n",
    "import time\n",
    "import SentimentModel\n",
    "import random\n",
    "import re\n",
    "import pickle\n",
    "import seaborn as sns"
   ]
  },
  {
   "cell_type": "code",
   "execution_count": 3,
   "id": "8a2a1a66-2cfa-46dd-bda0-da4877b27b97",
   "metadata": {},
   "outputs": [],
   "source": [
    "# #ONLY HAVE TO RUN BELOW ONCE, WE CAN LOAD LATER\n",
    "# stock_prices = dict()\n",
    "\n",
    "# for t in stock_tweets.ticker.unique():\n",
    "#     stock_prices[t] = yf.download(t.replace('$', \"\"))\n",
    "\n",
    "# items = list(stock_prices.items())\n",
    "# for k,v in items:\n",
    "#     if(v.shape[0] == 0):\n",
    "#         del stock_prices[k]\n",
    "\n",
    "# with open('stock_prices.pkl', 'wb') as f:\n",
    "#     pickle.dump(stock_prices, f, pickle.HIGHEST_PROTOCOL)"
   ]
  },
  {
   "cell_type": "code",
   "execution_count": 4,
   "id": "d6b564bc-8236-4b0e-a49a-054669def8b4",
   "metadata": {},
   "outputs": [],
   "source": [
    "stock_prices = None\n",
    "with open('stock_prices.pkl', 'rb') as f:\n",
    "    stock_prices = pickle.load(f)"
   ]
  },
  {
   "cell_type": "code",
   "execution_count": 5,
   "id": "7d85a70d-d1c7-4c36-85f7-0325700912e8",
   "metadata": {},
   "outputs": [],
   "source": [
    "data = pd.read_csv('user_timeline_tweets.csv')"
   ]
  },
  {
   "cell_type": "code",
   "execution_count": 6,
   "id": "0d15ff9c-8822-42e0-9aa4-5019f130c078",
   "metadata": {},
   "outputs": [],
   "source": [
    "data = data.drop(['_id', 'id', 'date'], axis=1)"
   ]
  },
  {
   "cell_type": "code",
   "execution_count": 7,
   "id": "ced714a7-a7cd-4aea-85d4-0087f8b68947",
   "metadata": {},
   "outputs": [
    {
     "data": {
      "text/html": [
       "<div>\n",
       "<style scoped>\n",
       "    .dataframe tbody tr th:only-of-type {\n",
       "        vertical-align: middle;\n",
       "    }\n",
       "\n",
       "    .dataframe tbody tr th {\n",
       "        vertical-align: top;\n",
       "    }\n",
       "\n",
       "    .dataframe thead th {\n",
       "        text-align: right;\n",
       "    }\n",
       "</style>\n",
       "<table border=\"1\" class=\"dataframe\">\n",
       "  <thead>\n",
       "    <tr style=\"text-align: right;\">\n",
       "      <th></th>\n",
       "      <th>text</th>\n",
       "      <th>time</th>\n",
       "      <th>user</th>\n",
       "    </tr>\n",
       "  </thead>\n",
       "  <tbody>\n",
       "    <tr>\n",
       "      <th>0</th>\n",
       "      <td>The list of reasons why the financial market’s...</td>\n",
       "      <td>2022-05-11T08:46:29.000Z</td>\n",
       "      <td>MarketWatch</td>\n",
       "    </tr>\n",
       "    <tr>\n",
       "      <th>1</th>\n",
       "      <td>Stablecoin TerraUSD plunges to as low as 30 ce...</td>\n",
       "      <td>2022-05-11T08:36:55.000Z</td>\n",
       "      <td>MarketWatch</td>\n",
       "    </tr>\n",
       "    <tr>\n",
       "      <th>2</th>\n",
       "      <td>Stablecoin Terra falls as low as 30 cents on t...</td>\n",
       "      <td>2022-05-11T08:20:54.000Z</td>\n",
       "      <td>MarketWatch</td>\n",
       "    </tr>\n",
       "    <tr>\n",
       "      <th>3</th>\n",
       "      <td>It is a good time for the Federal Reserve to “...</td>\n",
       "      <td>2022-05-11T08:20:40.000Z</td>\n",
       "      <td>MarketWatch</td>\n",
       "    </tr>\n",
       "    <tr>\n",
       "      <th>4</th>\n",
       "      <td>Just weeks before Memorial Day weekend, the la...</td>\n",
       "      <td>2022-05-11T07:53:17.000Z</td>\n",
       "      <td>MarketWatch</td>\n",
       "    </tr>\n",
       "    <tr>\n",
       "      <th>...</th>\n",
       "      <td>...</td>\n",
       "      <td>...</td>\n",
       "      <td>...</td>\n",
       "    </tr>\n",
       "    <tr>\n",
       "      <th>52128</th>\n",
       "      <td>RT @BBCBreaking: Former Trump adviser Steve Ba...</td>\n",
       "      <td>2020-08-20T13:50:01.000Z</td>\n",
       "      <td>Seana Smith</td>\n",
       "    </tr>\n",
       "    <tr>\n",
       "      <th>52129</th>\n",
       "      <td>RT @YahooFinance: Highlight: \"Much to the dism...</td>\n",
       "      <td>2020-08-20T01:43:32.000Z</td>\n",
       "      <td>Seana Smith</td>\n",
       "    </tr>\n",
       "    <tr>\n",
       "      <th>52130</th>\n",
       "      <td>RT @DeItaOne: KUDLOW SAYS DOES NOT SEE A FEDER...</td>\n",
       "      <td>2020-08-07T14:36:02.000Z</td>\n",
       "      <td>Seana Smith</td>\n",
       "    </tr>\n",
       "    <tr>\n",
       "      <th>52131</th>\n",
       "      <td>BofA: Downgrading $AAPL to Neutral as we view ...</td>\n",
       "      <td>2020-08-05T14:00:46.000Z</td>\n",
       "      <td>Seana Smith</td>\n",
       "    </tr>\n",
       "    <tr>\n",
       "      <th>52132</th>\n",
       "      <td>RT @RyanDetrick: I am scheduled to come up on ...</td>\n",
       "      <td>2020-08-03T19:29:19.000Z</td>\n",
       "      <td>Seana Smith</td>\n",
       "    </tr>\n",
       "  </tbody>\n",
       "</table>\n",
       "<p>52133 rows × 3 columns</p>\n",
       "</div>"
      ],
      "text/plain": [
       "                                                    text  \\\n",
       "0      The list of reasons why the financial market’s...   \n",
       "1      Stablecoin TerraUSD plunges to as low as 30 ce...   \n",
       "2      Stablecoin Terra falls as low as 30 cents on t...   \n",
       "3      It is a good time for the Federal Reserve to “...   \n",
       "4      Just weeks before Memorial Day weekend, the la...   \n",
       "...                                                  ...   \n",
       "52128  RT @BBCBreaking: Former Trump adviser Steve Ba...   \n",
       "52129  RT @YahooFinance: Highlight: \"Much to the dism...   \n",
       "52130  RT @DeItaOne: KUDLOW SAYS DOES NOT SEE A FEDER...   \n",
       "52131  BofA: Downgrading $AAPL to Neutral as we view ...   \n",
       "52132  RT @RyanDetrick: I am scheduled to come up on ...   \n",
       "\n",
       "                           time         user  \n",
       "0      2022-05-11T08:46:29.000Z  MarketWatch  \n",
       "1      2022-05-11T08:36:55.000Z  MarketWatch  \n",
       "2      2022-05-11T08:20:54.000Z  MarketWatch  \n",
       "3      2022-05-11T08:20:40.000Z  MarketWatch  \n",
       "4      2022-05-11T07:53:17.000Z  MarketWatch  \n",
       "...                         ...          ...  \n",
       "52128  2020-08-20T13:50:01.000Z  Seana Smith  \n",
       "52129  2020-08-20T01:43:32.000Z  Seana Smith  \n",
       "52130  2020-08-07T14:36:02.000Z  Seana Smith  \n",
       "52131  2020-08-05T14:00:46.000Z  Seana Smith  \n",
       "52132  2020-08-03T19:29:19.000Z  Seana Smith  \n",
       "\n",
       "[52133 rows x 3 columns]"
      ]
     },
     "execution_count": 7,
     "metadata": {},
     "output_type": "execute_result"
    }
   ],
   "source": [
    "data"
   ]
  },
  {
   "cell_type": "code",
   "execution_count": 8,
   "id": "6a034ee8-3d22-46b5-a70d-2cc5ca5b2133",
   "metadata": {},
   "outputs": [],
   "source": [
    "columns = ['text', 'ticker', 'time', 'user']\n",
    "stock_tweets = []\n",
    "\n",
    "regex = r'(\\$[A-Z]+)'\n",
    "for i,row in data.iterrows():\n",
    "    tickers = re.findall(regex, row['text'])\n",
    "    visited = set()\n",
    "    for t in tickers:\n",
    "        if t in visited:\n",
    "            continue\n",
    "        visited.add(t)\n",
    "        stock_tweets.append([row['text'], t, row['time'], row['user']])"
   ]
  },
  {
   "cell_type": "code",
   "execution_count": 9,
   "id": "25ee18fd-5785-4dd4-881b-21204e972d4c",
   "metadata": {},
   "outputs": [],
   "source": [
    "stock_tweets = pd.DataFrame(stock_tweets, columns=columns)"
   ]
  },
  {
   "cell_type": "code",
   "execution_count": 10,
   "id": "a72d4426-f523-48cf-a49c-af78de76eb15",
   "metadata": {},
   "outputs": [],
   "source": [
    "stock_tweets.time = pd.to_datetime(stock_tweets.time)"
   ]
  },
  {
   "cell_type": "code",
   "execution_count": 11,
   "id": "ad173857-a7c2-4855-b735-c8501d46f376",
   "metadata": {},
   "outputs": [
    {
     "name": "stdout",
     "output_type": "stream",
     "text": [
      "<class 'pandas.core.frame.DataFrame'>\n",
      "RangeIndex: 2357 entries, 0 to 2356\n",
      "Data columns (total 4 columns):\n",
      " #   Column  Non-Null Count  Dtype              \n",
      "---  ------  --------------  -----              \n",
      " 0   text    2357 non-null   object             \n",
      " 1   ticker  2357 non-null   object             \n",
      " 2   time    2357 non-null   datetime64[ns, UTC]\n",
      " 3   user    2357 non-null   object             \n",
      "dtypes: datetime64[ns, UTC](1), object(3)\n",
      "memory usage: 73.8+ KB\n"
     ]
    }
   ],
   "source": [
    "stock_tweets.info()"
   ]
  },
  {
   "cell_type": "markdown",
   "id": "37f991ee-364f-4a59-a2dd-7bbd606443fa",
   "metadata": {},
   "source": [
    "# We will take the standard market open and close times UTC 14:30:00 to 21:00:00"
   ]
  },
  {
   "cell_type": "code",
   "execution_count": 12,
   "id": "c4631857-fc53-4d13-8606-239187ad2e60",
   "metadata": {},
   "outputs": [],
   "source": [
    "MARKET_OPEN = datetime.time()\n",
    "MARKET_CLOSE = datetime.time(21,0,0)"
   ]
  },
  {
   "cell_type": "code",
   "execution_count": 13,
   "id": "1cd7234d-0f40-4606-81ba-21aa0695a6f9",
   "metadata": {},
   "outputs": [],
   "source": [
    "def correct_dates(dt_obj):\n",
    "    if(dt_obj.time() < MARKET_CLOSE):\n",
    "        return dt_obj.date()\n",
    "    timedelta = datetime.timedelta(days=1)\n",
    "    dt_obj += timedelta\n",
    "    return dt_obj.date()"
   ]
  },
  {
   "cell_type": "code",
   "execution_count": 14,
   "id": "dd3d4f8f-9c19-41e3-b148-c225516d798c",
   "metadata": {},
   "outputs": [],
   "source": [
    "stock_tweets['date'] = stock_tweets.time.apply(lambda x : correct_dates(x))"
   ]
  },
  {
   "cell_type": "code",
   "execution_count": 15,
   "id": "be5fcc58-8388-4346-b736-b5894e3f4ba6",
   "metadata": {},
   "outputs": [
    {
     "data": {
      "text/plain": [
       "datetime.date(2022, 5, 10)"
      ]
     },
     "execution_count": 15,
     "metadata": {},
     "output_type": "execute_result"
    }
   ],
   "source": [
    "stock_prices['$TSLA'].loc['2022-05-10'].name.date()"
   ]
  },
  {
   "cell_type": "markdown",
   "id": "be07ad59-0c13-4db3-89f9-71d5e73f2d7b",
   "metadata": {},
   "source": [
    "# Get sentiment scores for all the tweets"
   ]
  },
  {
   "cell_type": "code",
   "execution_count": 16,
   "id": "503d0652-9b0b-4655-a34b-b77834df4ea1",
   "metadata": {},
   "outputs": [],
   "source": [
    "model = SentimentModel.SentimentModel(model_path='models/model', load_model=True)"
   ]
  },
  {
   "cell_type": "code",
   "execution_count": 20,
   "id": "8fa24146-b9be-465d-9936-beb15e97875d",
   "metadata": {},
   "outputs": [],
   "source": [
    "sentiment_labels = ['negative', 'neutral', 'positive']\n",
    "sentiments = pd.DataFrame(model.predict_proba(stock_tweets['text']), columns=sentiment_labels)"
   ]
  },
  {
   "cell_type": "code",
   "execution_count": 21,
   "id": "752af459-2651-45c3-9b1d-e9942350cd16",
   "metadata": {},
   "outputs": [
    {
     "data": {
      "text/html": [
       "<div>\n",
       "<style scoped>\n",
       "    .dataframe tbody tr th:only-of-type {\n",
       "        vertical-align: middle;\n",
       "    }\n",
       "\n",
       "    .dataframe tbody tr th {\n",
       "        vertical-align: top;\n",
       "    }\n",
       "\n",
       "    .dataframe thead th {\n",
       "        text-align: right;\n",
       "    }\n",
       "</style>\n",
       "<table border=\"1\" class=\"dataframe\">\n",
       "  <thead>\n",
       "    <tr style=\"text-align: right;\">\n",
       "      <th></th>\n",
       "      <th>negative</th>\n",
       "      <th>neutral</th>\n",
       "      <th>positive</th>\n",
       "    </tr>\n",
       "  </thead>\n",
       "  <tbody>\n",
       "    <tr>\n",
       "      <th>0</th>\n",
       "      <td>0.006106</td>\n",
       "      <td>0.838109</td>\n",
       "      <td>0.155786</td>\n",
       "    </tr>\n",
       "    <tr>\n",
       "      <th>1</th>\n",
       "      <td>0.030165</td>\n",
       "      <td>0.837477</td>\n",
       "      <td>0.132358</td>\n",
       "    </tr>\n",
       "    <tr>\n",
       "      <th>2</th>\n",
       "      <td>0.000636</td>\n",
       "      <td>0.985662</td>\n",
       "      <td>0.013702</td>\n",
       "    </tr>\n",
       "    <tr>\n",
       "      <th>3</th>\n",
       "      <td>0.905105</td>\n",
       "      <td>0.056764</td>\n",
       "      <td>0.038132</td>\n",
       "    </tr>\n",
       "    <tr>\n",
       "      <th>4</th>\n",
       "      <td>0.054616</td>\n",
       "      <td>0.814632</td>\n",
       "      <td>0.130753</td>\n",
       "    </tr>\n",
       "  </tbody>\n",
       "</table>\n",
       "</div>"
      ],
      "text/plain": [
       "   negative   neutral  positive\n",
       "0  0.006106  0.838109  0.155786\n",
       "1  0.030165  0.837477  0.132358\n",
       "2  0.000636  0.985662  0.013702\n",
       "3  0.905105  0.056764  0.038132\n",
       "4  0.054616  0.814632  0.130753"
      ]
     },
     "execution_count": 21,
     "metadata": {},
     "output_type": "execute_result"
    }
   ],
   "source": [
    "sentiments.head()"
   ]
  },
  {
   "cell_type": "code",
   "execution_count": 22,
   "id": "a8320865-620b-433f-83ab-9633fd012793",
   "metadata": {},
   "outputs": [],
   "source": [
    "stock_tweets = pd.concat([stock_tweets, sentiments], axis=1)"
   ]
  },
  {
   "cell_type": "code",
   "execution_count": 31,
   "id": "a792dfe6-7899-487e-898e-8eaf60937008",
   "metadata": {},
   "outputs": [
    {
     "data": {
      "text/html": [
       "<div>\n",
       "<style scoped>\n",
       "    .dataframe tbody tr th:only-of-type {\n",
       "        vertical-align: middle;\n",
       "    }\n",
       "\n",
       "    .dataframe tbody tr th {\n",
       "        vertical-align: top;\n",
       "    }\n",
       "\n",
       "    .dataframe thead th {\n",
       "        text-align: right;\n",
       "    }\n",
       "</style>\n",
       "<table border=\"1\" class=\"dataframe\">\n",
       "  <thead>\n",
       "    <tr style=\"text-align: right;\">\n",
       "      <th></th>\n",
       "      <th>text</th>\n",
       "      <th>ticker</th>\n",
       "      <th>time</th>\n",
       "      <th>user</th>\n",
       "      <th>date</th>\n",
       "      <th>negative</th>\n",
       "      <th>neutral</th>\n",
       "      <th>positive</th>\n",
       "    </tr>\n",
       "  </thead>\n",
       "  <tbody>\n",
       "    <tr>\n",
       "      <th>1517</th>\n",
       "      <td>@CarlCICahn Dow down 212, $TSLA up as I noted ...</td>\n",
       "      <td>$TSLA</td>\n",
       "      <td>2013-08-15 17:46:46+00:00</td>\n",
       "      <td>Carl C Icahn</td>\n",
       "      <td>2013-08-15</td>\n",
       "      <td>0.001959</td>\n",
       "      <td>0.997392</td>\n",
       "      <td>0.000649</td>\n",
       "    </tr>\n",
       "    <tr>\n",
       "      <th>1515</th>\n",
       "      <td>$AAPL -0.16%, $SPY -1.46%\\nI CAH N</td>\n",
       "      <td>$AAPL</td>\n",
       "      <td>2013-08-15 19:28:33+00:00</td>\n",
       "      <td>Carl C Icahn</td>\n",
       "      <td>2013-08-15</td>\n",
       "      <td>0.088411</td>\n",
       "      <td>0.781266</td>\n",
       "      <td>0.130323</td>\n",
       "    </tr>\n",
       "    <tr>\n",
       "      <th>1514</th>\n",
       "      <td>$AAPL GREEN \\nI print more $$ than Ben C Bernake</td>\n",
       "      <td>$AAPL</td>\n",
       "      <td>2013-08-15 19:31:28+00:00</td>\n",
       "      <td>Carl C Icahn</td>\n",
       "      <td>2013-08-15</td>\n",
       "      <td>0.001520</td>\n",
       "      <td>0.031381</td>\n",
       "      <td>0.967099</td>\n",
       "    </tr>\n",
       "    <tr>\n",
       "      <th>1513</th>\n",
       "      <td>My next bet CHINA MOBILE $CHL Will force them ...</td>\n",
       "      <td>$AAPL</td>\n",
       "      <td>2013-08-15 19:45:06+00:00</td>\n",
       "      <td>Carl C Icahn</td>\n",
       "      <td>2013-08-15</td>\n",
       "      <td>0.119321</td>\n",
       "      <td>0.868312</td>\n",
       "      <td>0.012367</td>\n",
       "    </tr>\n",
       "    <tr>\n",
       "      <th>1512</th>\n",
       "      <td>My next bet CHINA MOBILE $CHL Will force them ...</td>\n",
       "      <td>$CHL</td>\n",
       "      <td>2013-08-15 19:45:06+00:00</td>\n",
       "      <td>Carl C Icahn</td>\n",
       "      <td>2013-08-15</td>\n",
       "      <td>0.119321</td>\n",
       "      <td>0.868312</td>\n",
       "      <td>0.012367</td>\n",
       "    </tr>\n",
       "    <tr>\n",
       "      <th>...</th>\n",
       "      <td>...</td>\n",
       "      <td>...</td>\n",
       "      <td>...</td>\n",
       "      <td>...</td>\n",
       "      <td>...</td>\n",
       "      <td>...</td>\n",
       "      <td>...</td>\n",
       "      <td>...</td>\n",
       "    </tr>\n",
       "    <tr>\n",
       "      <th>2020</th>\n",
       "      <td>At $4.8 million, $XL is just a bit off pace to...</td>\n",
       "      <td>$XL</td>\n",
       "      <td>2022-05-10 21:15:22+00:00</td>\n",
       "      <td>🇺🇦 MuddyWatersResearch</td>\n",
       "      <td>2022-05-11</td>\n",
       "      <td>0.076711</td>\n",
       "      <td>0.007015</td>\n",
       "      <td>0.916275</td>\n",
       "    </tr>\n",
       "    <tr>\n",
       "      <th>1328</th>\n",
       "      <td>$LUNA still crashing https://t.co/1Q0g9PxG4L</td>\n",
       "      <td>$LUNA</td>\n",
       "      <td>2022-05-10 21:52:23+00:00</td>\n",
       "      <td>Joe Weisenthal</td>\n",
       "      <td>2022-05-11</td>\n",
       "      <td>0.870874</td>\n",
       "      <td>0.010608</td>\n",
       "      <td>0.118518</td>\n",
       "    </tr>\n",
       "    <tr>\n",
       "      <th>553</th>\n",
       "      <td>Great numbers from Callaway Golf. I like what ...</td>\n",
       "      <td>$ELY</td>\n",
       "      <td>2022-05-10 22:29:58+00:00</td>\n",
       "      <td>Ross Gerber</td>\n",
       "      <td>2022-05-11</td>\n",
       "      <td>0.001238</td>\n",
       "      <td>0.002129</td>\n",
       "      <td>0.996632</td>\n",
       "    </tr>\n",
       "    <tr>\n",
       "      <th>1327</th>\n",
       "      <td>Want to short $LUNA? Cost to borrow is just 12...</td>\n",
       "      <td>$LUNA</td>\n",
       "      <td>2022-05-10 22:53:27+00:00</td>\n",
       "      <td>Joe Weisenthal</td>\n",
       "      <td>2022-05-11</td>\n",
       "      <td>0.934412</td>\n",
       "      <td>0.006240</td>\n",
       "      <td>0.059348</td>\n",
       "    </tr>\n",
       "    <tr>\n",
       "      <th>1519</th>\n",
       "      <td>According to $SPG CEO David Simon, “most retai...</td>\n",
       "      <td>$SPG</td>\n",
       "      <td>2022-05-10 21:18:52+00:00</td>\n",
       "      <td>Bespoke</td>\n",
       "      <td>2022-05-11</td>\n",
       "      <td>0.049095</td>\n",
       "      <td>0.849913</td>\n",
       "      <td>0.100992</td>\n",
       "    </tr>\n",
       "  </tbody>\n",
       "</table>\n",
       "<p>2357 rows × 8 columns</p>\n",
       "</div>"
      ],
      "text/plain": [
       "                                                   text ticker  \\\n",
       "1517  @CarlCICahn Dow down 212, $TSLA up as I noted ...  $TSLA   \n",
       "1515                 $AAPL -0.16%, $SPY -1.46%\\nI CAH N  $AAPL   \n",
       "1514   $AAPL GREEN \\nI print more $$ than Ben C Bernake  $AAPL   \n",
       "1513  My next bet CHINA MOBILE $CHL Will force them ...  $AAPL   \n",
       "1512  My next bet CHINA MOBILE $CHL Will force them ...   $CHL   \n",
       "...                                                 ...    ...   \n",
       "2020  At $4.8 million, $XL is just a bit off pace to...    $XL   \n",
       "1328       $LUNA still crashing https://t.co/1Q0g9PxG4L  $LUNA   \n",
       "553   Great numbers from Callaway Golf. I like what ...   $ELY   \n",
       "1327  Want to short $LUNA? Cost to borrow is just 12...  $LUNA   \n",
       "1519  According to $SPG CEO David Simon, “most retai...   $SPG   \n",
       "\n",
       "                          time                    user        date  negative  \\\n",
       "1517 2013-08-15 17:46:46+00:00            Carl C Icahn  2013-08-15  0.001959   \n",
       "1515 2013-08-15 19:28:33+00:00            Carl C Icahn  2013-08-15  0.088411   \n",
       "1514 2013-08-15 19:31:28+00:00            Carl C Icahn  2013-08-15  0.001520   \n",
       "1513 2013-08-15 19:45:06+00:00            Carl C Icahn  2013-08-15  0.119321   \n",
       "1512 2013-08-15 19:45:06+00:00            Carl C Icahn  2013-08-15  0.119321   \n",
       "...                        ...                     ...         ...       ...   \n",
       "2020 2022-05-10 21:15:22+00:00  🇺🇦 MuddyWatersResearch  2022-05-11  0.076711   \n",
       "1328 2022-05-10 21:52:23+00:00          Joe Weisenthal  2022-05-11  0.870874   \n",
       "553  2022-05-10 22:29:58+00:00             Ross Gerber  2022-05-11  0.001238   \n",
       "1327 2022-05-10 22:53:27+00:00          Joe Weisenthal  2022-05-11  0.934412   \n",
       "1519 2022-05-10 21:18:52+00:00                 Bespoke  2022-05-11  0.049095   \n",
       "\n",
       "       neutral  positive  \n",
       "1517  0.997392  0.000649  \n",
       "1515  0.781266  0.130323  \n",
       "1514  0.031381  0.967099  \n",
       "1513  0.868312  0.012367  \n",
       "1512  0.868312  0.012367  \n",
       "...        ...       ...  \n",
       "2020  0.007015  0.916275  \n",
       "1328  0.010608  0.118518  \n",
       "553   0.002129  0.996632  \n",
       "1327  0.006240  0.059348  \n",
       "1519  0.849913  0.100992  \n",
       "\n",
       "[2357 rows x 8 columns]"
      ]
     },
     "execution_count": 31,
     "metadata": {},
     "output_type": "execute_result"
    }
   ],
   "source": [
    "stock_tweets.sort_values(['date'])"
   ]
  },
  {
   "cell_type": "code",
   "execution_count": 76,
   "id": "0687a19a-7796-4c84-8a0d-ccfeaba85ca1",
   "metadata": {},
   "outputs": [],
   "source": [
    "def get_date_range(from_date, to_date):\n",
    "    return stock_prices['$TSLA'][(stock_prices['$TSLA'].index.date >= from_date) & (stock_prices['$TSLA'].index.date <= to_date)].index.date"
   ]
  },
  {
   "cell_type": "markdown",
   "id": "3bddd545-643f-471a-9ee2-2eca8a1914a0",
   "metadata": {},
   "source": [
    "# Simulation and Agents"
   ]
  },
  {
   "cell_type": "code",
   "execution_count": 334,
   "id": "4cb2ee1d-6bbd-4618-9596-f8a0b358d518",
   "metadata": {},
   "outputs": [],
   "source": [
    "class AgentRandom:\n",
    "    def __init__(self, tweets, random_state=time.time()):\n",
    "        self.tweets = tweets\n",
    "        random.seed(random_state)\n",
    "    \n",
    "    def get_trades(self, from_date, to_date, portfolio, terminal): # dates must be in datetime.date format\n",
    "        relevant_tweets = self.tweets[(self.tweets.date > from_date) & (self.tweets.date <= to_date)]\n",
    "        \n",
    "        tickers = relevant_tweets.groupby('ticker').mean().index;\n",
    "        \n",
    "        trades = []\n",
    "        for t in tickers:\n",
    "            trades.append([t, random.randrange(0,3), random.random()])\n",
    "        return trades"
   ]
  },
  {
   "cell_type": "code",
   "execution_count": 335,
   "id": "e5ffdc1f-5dab-4436-ba63-a7058c3966cf",
   "metadata": {},
   "outputs": [],
   "source": [
    "class AgentSentiment:\n",
    "    def __init__(self, tweets, window_size = 3):\n",
    "        self.tweets = tweets\n",
    "        self.window_size = window_size\n",
    "    \n",
    "    def get_trades(self, from_date, to_date, portfolio, terminal):\n",
    "        delta = (to_date - from_date).days\n",
    "        from_date -= datetime.timedelta(days=max(0, self.window_size - delta))\n",
    "        relevant_tweets = self.tweets[(self.tweets.date > from_date) & (self.tweets.date <= to_date)]\n",
    "        \n",
    "        trades = []\n",
    "        for ticker, row in relevant_tweets.groupby('ticker').mean().iterrows():\n",
    "            pred = np.argmax(row)\n",
    "            pred_proba = np.max(row)\n",
    "            power = (pred_proba - 0.33)/0.66\n",
    "            # power = 1\n",
    "            trades.append([ticker, pred, power])\n",
    "        return trades"
   ]
  },
  {
   "cell_type": "code",
   "execution_count": 333,
   "id": "e3e02bd5-82a0-49ff-8762-5dc431a9e837",
   "metadata": {},
   "outputs": [
    {
     "data": {
      "text/plain": [
       "[0.1282164603471756, 0.40410739183425903, 0.46767616271972656]"
      ]
     },
     "execution_count": 333,
     "metadata": {},
     "output_type": "execute_result"
    }
   ],
   "source": [
    "list(stock_tweets.groupby('ticker').mean().iloc[0,:])"
   ]
  },
  {
   "cell_type": "code",
   "execution_count": 372,
   "id": "b9ec8416-6d43-4b02-ae15-50a7e2b336fc",
   "metadata": {},
   "outputs": [],
   "source": [
    "%run RLAgent.ipynb\n",
    "class AgentQ:\n",
    "    def __init__(self, tweets, stock_prices, window_size = 3, model_path = None):\n",
    "        self.tweets = tweets\n",
    "        self.stock_prices = stock_prices\n",
    "        self.window_size = window_size\n",
    "        self.previous_state_actions = dict()\n",
    "        self.agent = RLAgent()\n",
    "        self.epsilon = 1.0\n",
    "        self.cum_reward = 0\n",
    "        \n",
    "    def reset_episode(self):\n",
    "        self.previous_state_actions = dict()\n",
    "        self.cum_reward = 0\n",
    "        \n",
    "    def get_trades(self, from_date, to_date, portfolio, terminal):\n",
    "        delta = (to_date - from_date).days\n",
    "        from_date -= datetime.timedelta(days=max(0, self.window_size - delta))\n",
    "        relevant_tweets = self.tweets[(self.tweets.date > from_date) & (self.tweets.date <= to_date)]\n",
    "        \n",
    "        trades = []\n",
    "        state_actions = dict()\n",
    "        for ticker, row in relevant_tweets.groupby('ticker').mean().iterrows():\n",
    "            pred_probs = list(row)\n",
    "            stock_price = 0\n",
    "            portfolio_amount = 0\n",
    "            if(ticker in self.stock_prices and self.stock_prices[ticker][self.stock_prices[ticker].index.date == to_date].shape[0] > 0):\n",
    "                stock_price = self.stock_prices[ticker][self.stock_prices[ticker].index.date == to_date].Close[0]\n",
    "                portfolio_amount = 0 if ticker not in portfolio else portfolio[ticker] * stock_price\n",
    "            state = [portfolio_amount, stock_price, pred_probs[0], pred_probs[1], pred_probs[2]]\n",
    "            action = self.agent.getAction(state, ep=self.epsilon)\n",
    "            state_actions[ticker] = [state, action, portfolio_amount]\n",
    "            trades.append([ticker] + self.agent.parseAction(action))\n",
    "        \n",
    "        for k,v in self.previous_state_actions.items():\n",
    "            if(k not in state_actions):\n",
    "                continue\n",
    "            reward = state_actions[k][2] - v[2]\n",
    "            self.cum_reward += reward\n",
    "            self.agent.stateTransition(v[0], v[1], state_actions[k][0], reward, terminal)\n",
    "            self.previous_state_actions[k] = state_actions[k]\n",
    "        \n",
    "        for k,v in state_actions.items():\n",
    "            if(k not in self.previous_state_actions):\n",
    "                self.previous_state_actions[k] = v\n",
    "        return trades"
   ]
  },
  {
   "cell_type": "code",
   "execution_count": 373,
   "id": "230c2d6e-88f7-4317-99bd-f9095f187127",
   "metadata": {},
   "outputs": [],
   "source": [
    "class Simulation:\n",
    "    def __init__(self, start, end, agent, starting_capital=10000):\n",
    "        self.start = start # Should be a datetime.date\n",
    "        self.end = end # Should be a datetime.date\n",
    "        self.agent = agent\n",
    "        self.date_range = get_date_range(start, end)\n",
    "        self.capital = starting_capital\n",
    "        self.portfolio = dict()\n",
    "        self.history = [self.capital]\n",
    "        self.trade_quanta = 1000 # dollars\n",
    "    \n",
    "    def get_portfolio_value(self, date):\n",
    "        value = 0\n",
    "        for tick, amount in self.portfolio.items():\n",
    "            if(tick not in stock_prices or stock_prices[tick][stock_prices[tick].index.date == date].shape[0] == 0):\n",
    "                continue\n",
    "            stock_price = stock_prices[tick][stock_prices[tick].index.date == date].Close[0]\n",
    "            value += (stock_price * amount)\n",
    "        return value\n",
    "    \n",
    "    def simulate(self):\n",
    "        total_buys = 0\n",
    "        total_sells = 0\n",
    "        total_hodl = 0\n",
    "        for i,d in enumerate(self.date_range):\n",
    "            from_date = self.date_range[i - 1] if i > 0 else d - datetime.timedelta(days=1)\n",
    "            to_date = d\n",
    "            \n",
    "            trades = self.agent.get_trades(from_date, to_date, self.portfolio, i == len(self.date_range) - 1)\n",
    "            \n",
    "            for t in trades:\n",
    "                # print(f\"On date {d} for stock {t[0]} doing {t}\")\n",
    "                tick = t[0]\n",
    "                task = t[1]\n",
    "                power = t[2]\n",
    "                \n",
    "                if(tick not in stock_prices):\n",
    "                    continue\n",
    "                if(stock_prices[tick][stock_prices[tick].index.date == d].shape[0] == 0):\n",
    "                    # print(f\"No stock price found for {tick} on date {d}\")\n",
    "                    continue\n",
    "                stock_price = stock_prices[tick][stock_prices[tick].index.date == d].Close[0]\n",
    "                trade_amount = self.trade_quanta * power\n",
    "                stock_quantity = trade_amount / stock_price\n",
    "                \n",
    "                if(task == 0):\n",
    "                    # Sell\n",
    "                    total_sells += 1\n",
    "                    if(tick not in self.portfolio): \n",
    "                        continue\n",
    "                    current_holding = self.portfolio[tick]\n",
    "                    stock_quantity = min(current_holding, stock_quantity)\n",
    "                    current_holding -= stock_quantity\n",
    "                    self.capital += stock_quantity * stock_price\n",
    "                    self.portfolio[tick] = current_holding\n",
    "                elif(task == 2):\n",
    "                    # Buy\n",
    "                    if(tick not in self.portfolio):\n",
    "                        self.portfolio[tick] = 0\n",
    "                    trade_amount = min(self.capital, trade_amount)\n",
    "                    self.portfolio[tick] += trade_amount / stock_price\n",
    "                    self.capital -= trade_amount\n",
    "                    total_buys += 1\n",
    "                else:\n",
    "                    total_hodl += 1\n",
    "            self.history.append(self.capital + self.get_portfolio_value(d))\n",
    "        print(f\"total buys : {total_buys}\\ntotal sells: {total_sells}\\ntotal_holds : {total_hodl}\")"
   ]
  },
  {
   "cell_type": "code",
   "execution_count": 374,
   "id": "4b2fb6f2-ad47-46a5-9be1-fd799c25833d",
   "metadata": {},
   "outputs": [],
   "source": [
    "qAgent = AgentQ(stock_tweets, stock_prices)"
   ]
  },
  {
   "cell_type": "code",
   "execution_count": null,
   "id": "cd23ab40-5a3e-497f-ac2e-af4b3b8f2e14",
   "metadata": {},
   "outputs": [
    {
     "name": "stdout",
     "output_type": "stream",
     "text": [
      "total buys : 1094\n",
      "total sells: 1308\n",
      "total_holds : 0\n",
      "Episode 0 reward 7916.536657827944\n",
      "total buys : 1152\n",
      "total sells: 1250\n",
      "total_holds : 0\n",
      "Episode 1 reward 9078.498663388458\n",
      "total buys : 1137\n",
      "total sells: 1265\n",
      "total_holds : 0\n",
      "Episode 2 reward 5278.507274065429\n",
      "total buys : 1120\n",
      "total sells: 1282\n",
      "total_holds : 0\n",
      "Episode 3 reward 8156.897152864822\n",
      "total buys : 1149\n",
      "total sells: 1253\n",
      "total_holds : 0\n",
      "Episode 4 reward 8168.313192862623\n",
      "total buys : 1185\n",
      "total sells: 1217\n",
      "total_holds : 0\n",
      "Episode 5 reward 5337.673762354405\n",
      "Training\n"
     ]
    }
   ],
   "source": [
    "# Training for Q agent\n",
    "NUM_EPISODES = 2000\n",
    "REPLAY_INTERVAL = 5\n",
    "UPDATE_INTERVAL = REPLAY_INTERVAL * 2\n",
    "EPSILON_START = 1.0\n",
    "EPSILON_DECAY = 0.995\n",
    "\n",
    "qAgent.epsilon = EPSILON_START\n",
    "rewards = []\n",
    "\n",
    "for e in range(NUM_EPISODES):\n",
    "    train = True if (e // REPLAY_INTERVAL > 0 and e % REPLAY_INTERVAL == 0) else False\n",
    "    sim = Simulation(datetime.date(2022, 1, 1), datetime.date(2022, 6, 1), qAgent)\n",
    "    \n",
    "    sim.simulate()\n",
    "    rewards.append(qAgent.cum_reward)\n",
    "    \n",
    "    print(f\"Episode {e} reward {rewards[-1]}\")\n",
    "    if(train):\n",
    "        print(\"Training\")\n",
    "        sns.lineplot(x = range(len(rewards)), y = rewards)\n",
    "        plt.savefig(f\"figures/rewards.png\")\n",
    "        plt.clf()\n",
    "        qAgent.agent.replay()\n",
    "        qAgent.epsilon *= EPSILON_DECAY\n",
    "    \n",
    "    if(train and e % UPDATE_INTERVAL == 0):\n",
    "        print(\"Updating and Saving\")\n",
    "        qAgent.agent.updateModel()\n",
    "    qAgent.reset_episode()"
   ]
  },
  {
   "cell_type": "code",
   "execution_count": 358,
   "id": "b6cf63dc-b1ef-48e1-a799-5ba002d688e8",
   "metadata": {},
   "outputs": [],
   "source": [
    "sim_q = Simulation(datetime.date(2022,4,1), datetime.date(2022,4,10), AgentQ(stock_tweets, stock_prices))"
   ]
  },
  {
   "cell_type": "code",
   "execution_count": 359,
   "id": "03e33c19-b4d2-44e5-9f14-b419a1797534",
   "metadata": {},
   "outputs": [
    {
     "name": "stdout",
     "output_type": "stream",
     "text": [
      "No stock price found for $BNB on date 2022-04-06\n",
      "No stock price found for $BNB on date 2022-04-07\n",
      "No stock price found for $BRK on date 2022-04-07\n",
      "No stock price found for $BNB on date 2022-04-08\n",
      "No stock price found for $BRK on date 2022-04-08\n",
      "total buys : 113\n",
      "total sells: 144\n",
      "total_holds : 0\n"
     ]
    }
   ],
   "source": [
    "sim_q.simulate()"
   ]
  },
  {
   "cell_type": "code",
   "execution_count": 347,
   "id": "87c58bd6-c79a-45f3-81f0-4bc3d2a141eb",
   "metadata": {},
   "outputs": [],
   "source": [
    "sim_random = Simulation(datetime.date(2022,1,1), datetime.date(2022,6,1), AgentRandom(stock_tweets, random_state=time.time()))"
   ]
  },
  {
   "cell_type": "code",
   "execution_count": 322,
   "id": "83968756-6849-434a-806b-14f23bddc5dc",
   "metadata": {},
   "outputs": [
    {
     "name": "stdout",
     "output_type": "stream",
     "text": [
      "No stock price found for $BRK on date 2022-02-03\n",
      "No stock price found for $APE on date 2022-03-17\n",
      "No stock price found for $SPX on date 2022-03-18\n",
      "No stock price found for $BRK on date 2022-03-21\n",
      "No stock price found for $WEED on date 2022-03-25\n",
      "No stock price found for $P on date 2022-03-28\n",
      "No stock price found for $RUT on date 2022-03-28\n",
      "No stock price found for $BNB on date 2022-04-06\n",
      "No stock price found for $BRK on date 2022-04-07\n",
      "No stock price found for $VIX on date 2022-04-12\n",
      "No stock price found for $TNX on date 2022-04-13\n",
      "No stock price found for $VIX on date 2022-04-18\n",
      "No stock price found for $VIX on date 2022-04-19\n",
      "No stock price found for $SVB on date 2022-04-22\n",
      "No stock price found for $VIX on date 2022-04-22\n",
      "No stock price found for $SOX on date 2022-04-25\n",
      "No stock price found for $VIX on date 2022-04-25\n",
      "No stock price found for $VIX on date 2022-04-27\n",
      "No stock price found for $BRK on date 2022-04-29\n",
      "No stock price found for $SPX on date 2022-04-29\n",
      "No stock price found for $WLD on date 2022-04-29\n",
      "No stock price found for $BRK on date 2022-05-02\n",
      "total buys : 428\n",
      "total sells: 394\n",
      "total_holds : 396\n"
     ]
    }
   ],
   "source": [
    "sim_random.simulate()"
   ]
  },
  {
   "cell_type": "code",
   "execution_count": 323,
   "id": "d0ca69bc-0cdf-4372-ac14-6223920858f9",
   "metadata": {},
   "outputs": [
    {
     "data": {
      "text/plain": [
       "<AxesSubplot:>"
      ]
     },
     "execution_count": 323,
     "metadata": {},
     "output_type": "execute_result"
    },
    {
     "data": {
      "image/png": "[encoded data removed]",
      "text/plain": [
       "<Figure size 432x288 with 1 Axes>"
      ]
     },
     "metadata": {
      "needs_background": "light"
     },
     "output_type": "display_data"
    }
   ],
   "source": [
    "sns.lineplot(x = range(len(sim_random.history)), y = sim_random.history)"
   ]
  },
  {
   "cell_type": "code",
   "execution_count": 324,
   "id": "d3e0414b-75d3-4451-bfa8-8ce076636d21",
   "metadata": {},
   "outputs": [],
   "source": [
    "sim_sentiment = Simulation(datetime.date(2022,1,1), datetime.date(2022,6,1), AgentSentiment(stock_tweets, window_size=3))"
   ]
  },
  {
   "cell_type": "code",
   "execution_count": 325,
   "id": "1dfeca33-9d39-4c71-9560-3f15a40c3e5d",
   "metadata": {},
   "outputs": [
    {
     "name": "stdout",
     "output_type": "stream",
     "text": [
      "No stock price found for $BRK on date 2022-02-03\n",
      "No stock price found for $BRK on date 2022-02-04\n",
      "No stock price found for $APE on date 2022-03-17\n",
      "No stock price found for $APE on date 2022-03-18\n",
      "No stock price found for $SPX on date 2022-03-18\n",
      "No stock price found for $BRK on date 2022-03-21\n",
      "No stock price found for $BRK on date 2022-03-22\n",
      "No stock price found for $BRK on date 2022-03-23\n",
      "No stock price found for $WEED on date 2022-03-25\n",
      "No stock price found for $P on date 2022-03-28\n",
      "No stock price found for $RUT on date 2022-03-28\n",
      "No stock price found for $P on date 2022-03-29\n",
      "No stock price found for $RUT on date 2022-03-29\n",
      "No stock price found for $P on date 2022-03-30\n",
      "No stock price found for $RUT on date 2022-03-30\n",
      "No stock price found for $BNB on date 2022-04-06\n",
      "No stock price found for $BNB on date 2022-04-07\n",
      "No stock price found for $BRK on date 2022-04-07\n",
      "No stock price found for $BNB on date 2022-04-08\n",
      "No stock price found for $BRK on date 2022-04-08\n",
      "No stock price found for $VIX on date 2022-04-12\n",
      "No stock price found for $TNX on date 2022-04-13\n",
      "No stock price found for $VIX on date 2022-04-13\n",
      "No stock price found for $TNX on date 2022-04-14\n",
      "No stock price found for $VIX on date 2022-04-14\n",
      "No stock price found for $VIX on date 2022-04-18\n",
      "No stock price found for $VIX on date 2022-04-19\n",
      "No stock price found for $VIX on date 2022-04-20\n",
      "No stock price found for $VIX on date 2022-04-21\n",
      "No stock price found for $SVB on date 2022-04-22\n",
      "No stock price found for $VIX on date 2022-04-22\n",
      "No stock price found for $SOX on date 2022-04-25\n",
      "No stock price found for $VIX on date 2022-04-25\n",
      "No stock price found for $SOX on date 2022-04-26\n",
      "No stock price found for $VIX on date 2022-04-26\n",
      "No stock price found for $SOX on date 2022-04-27\n",
      "No stock price found for $VIX on date 2022-04-27\n",
      "No stock price found for $VIX on date 2022-04-28\n",
      "No stock price found for $BRK on date 2022-04-29\n",
      "No stock price found for $SPX on date 2022-04-29\n",
      "No stock price found for $VIX on date 2022-04-29\n",
      "No stock price found for $WLD on date 2022-04-29\n",
      "No stock price found for $BRK on date 2022-05-02\n",
      "No stock price found for $BRK on date 2022-05-03\n",
      "No stock price found for $BRK on date 2022-05-04\n",
      "No stock price found for $BTC on date 2022-05-11\n",
      "total buys : 823\n",
      "total sells: 681\n",
      "total_holds : 898\n"
     ]
    }
   ],
   "source": [
    "sim_sentiment.simulate()"
   ]
  },
  {
   "cell_type": "code",
   "execution_count": 326,
   "id": "593f2733-e797-42d0-9d51-a998cd31c5f6",
   "metadata": {},
   "outputs": [
    {
     "data": {
      "text/plain": [
       "<AxesSubplot:>"
      ]
     },
     "execution_count": 326,
     "metadata": {},
     "output_type": "execute_result"
    },
    {
     "data": {
      "image/png": "[encoded data removed]",
      "text/plain": [
       "<Figure size 432x288 with 1 Axes>"
      ]
     },
     "metadata": {
      "needs_background": "light"
     },
     "output_type": "display_data"
    }
   ],
   "source": [
    "sns.lineplot(x = range(len(sim_sentiment.history)), y = sim_sentiment.history)\n",
    "sns.lineplot(x = range(len(sim_random.history)), y = sim_random.history)"
   ]
  },
  {
   "cell_type": "code",
   "execution_count": 156,
   "id": "8cc6b23f-ba43-45dd-a567-fa7145cc9192",
   "metadata": {},
   "outputs": [
    {
     "data": {
      "text/plain": [
       "<AxesSubplot:xlabel='date', ylabel='Count'>"
      ]
     },
     "execution_count": 156,
     "metadata": {},
     "output_type": "execute_result"
    },
    {
     "data": {
      "image/png": "[encoded data removed]",
      "text/plain": [
       "<Figure size 432x288 with 1 Axes>"
      ]
     },
     "metadata": {
      "needs_background": "light"
     },
     "output_type": "display_data"
    }
   ],
   "source": [
    "sns.histplot(stock_tweets[stock_tweets.date >= datetime.date(2022,4,1)].date)"
   ]
  },
  {
   "cell_type": "code",
   "execution_count": 159,
   "id": "a517ce17-901a-4dcf-9365-c915b80ba4ed",
   "metadata": {},
   "outputs": [
    {
     "data": {
      "text/plain": [
       "(215, 8)"
      ]
     },
     "execution_count": 159,
     "metadata": {},
     "output_type": "execute_result"
    }
   ],
   "source": [
    "stock_tweets[(stock_tweets.date >= datetime.date(2022,2,1)) & (stock_tweets.date < datetime.date(2022,3,1))].shape"
   ]
  },
  {
   "cell_type": "code",
   "execution_count": null,
   "id": "6ca4a1a5-6048-407e-a7ce-99a0e27791a8",
   "metadata": {},
   "outputs": [],
   "source": []
  }
 ],
 "metadata": {
  "kernelspec": {
   "display_name": "Python 3",
   "language": "python",
   "name": "python3"
  },
  "language_info": {
   "codemirror_mode": {
    "name": "ipython",
    "version": 3
   },
   "file_extension": ".py",
   "mimetype": "text/x-python",
   "name": "python",
   "nbconvert_exporter": "python",
   "pygments_lexer": "ipython3",
   "version": "3.8.8"
  }
 },
 "nbformat": 4,
 "nbformat_minor": 5
}
