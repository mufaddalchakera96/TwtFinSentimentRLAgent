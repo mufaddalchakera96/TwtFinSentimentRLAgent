{
 "cells": [
  {
   "cell_type": "code",
   "execution_count": 1,
   "id": "5e5238d9-62d0-4bf3-bbf3-2185e0d32cd7",
   "metadata": {},
   "outputs": [],
   "source": [
    "%load_ext autoreload\n",
    "%autoreload 2"
   ]
  },
  {
   "cell_type": "code",
   "execution_count": 342,
   "id": "66057732-12a6-483e-b416-a92376c622d5",
   "metadata": {},
   "outputs": [],
   "source": [
    "import pandas as pd\n",
    "import numpy as np\n",
    "import yfinance as yf\n",
    "import datetime\n",
    "import time\n",
    "import SentimentModel\n",
    "import random\n",
    "import re\n",
    "import pickle\n",
    "import seaborn as sns"
   ]
  },
  {
   "cell_type": "code",
   "execution_count": 3,
   "id": "8a2a1a66-2cfa-46dd-bda0-da4877b27b97",
   "metadata": {},
   "outputs": [],
   "source": [
    "# #ONLY HAVE TO RUN BELOW ONCE, WE CAN LOAD LATER\n",
    "# stock_prices = dict()\n",
    "\n",
    "# for t in stock_tweets.ticker.unique():\n",
    "#     stock_prices[t] = yf.download(t.replace('$', \"\"))\n",
    "\n",
    "# items = list(stock_prices.items())\n",
    "# for k,v in items:\n",
    "#     if(v.shape[0] == 0):\n",
    "#         del stock_prices[k]\n",
    "\n",
    "# with open('stock_prices.pkl', 'wb') as f:\n",
    "#     pickle.dump(stock_prices, f, pickle.HIGHEST_PROTOCOL)"
   ]
  },
  {
   "cell_type": "code",
   "execution_count": 4,
   "id": "d6b564bc-8236-4b0e-a49a-054669def8b4",
   "metadata": {},
   "outputs": [],
   "source": [
    "stock_prices = None\n",
    "with open('stock_prices.pkl', 'rb') as f:\n",
    "    stock_prices = pickle.load(f)"
   ]
  },
  {
   "cell_type": "code",
   "execution_count": 5,
   "id": "7d85a70d-d1c7-4c36-85f7-0325700912e8",
   "metadata": {},
   "outputs": [],
   "source": [
    "data = pd.read_csv('user_timeline_tweets.csv')"
   ]
  },
  {
   "cell_type": "code",
   "execution_count": 6,
   "id": "0d15ff9c-8822-42e0-9aa4-5019f130c078",
   "metadata": {},
   "outputs": [],
   "source": [
    "data = data.drop(['_id', 'id', 'date'], axis=1)"
   ]
  },
  {
   "cell_type": "code",
   "execution_count": 7,
   "id": "ced714a7-a7cd-4aea-85d4-0087f8b68947",
   "metadata": {},
   "outputs": [
    {
     "data": {
      "text/html": [
       "<div>\n",
       "<style scoped>\n",
       "    .dataframe tbody tr th:only-of-type {\n",
       "        vertical-align: middle;\n",
       "    }\n",
       "\n",
       "    .dataframe tbody tr th {\n",
       "        vertical-align: top;\n",
       "    }\n",
       "\n",
       "    .dataframe thead th {\n",
       "        text-align: right;\n",
       "    }\n",
       "</style>\n",
       "<table border=\"1\" class=\"dataframe\">\n",
       "  <thead>\n",
       "    <tr style=\"text-align: right;\">\n",
       "      <th></th>\n",
       "      <th>text</th>\n",
       "      <th>time</th>\n",
       "      <th>user</th>\n",
       "    </tr>\n",
       "  </thead>\n",
       "  <tbody>\n",
       "    <tr>\n",
       "      <th>0</th>\n",
       "      <td>The list of reasons why the financial market’s...</td>\n",
       "      <td>2022-05-11T08:46:29.000Z</td>\n",
       "      <td>MarketWatch</td>\n",
       "    </tr>\n",
       "    <tr>\n",
       "      <th>1</th>\n",
       "      <td>Stablecoin TerraUSD plunges to as low as 30 ce...</td>\n",
       "      <td>2022-05-11T08:36:55.000Z</td>\n",
       "      <td>MarketWatch</td>\n",
       "    </tr>\n",
       "    <tr>\n",
       "      <th>2</th>\n",
       "      <td>Stablecoin Terra falls as low as 30 cents on t...</td>\n",
       "      <td>2022-05-11T08:20:54.000Z</td>\n",
       "      <td>MarketWatch</td>\n",
       "    </tr>\n",
       "    <tr>\n",
       "      <th>3</th>\n",
       "      <td>It is a good time for the Federal Reserve to “...</td>\n",
       "      <td>2022-05-11T08:20:40.000Z</td>\n",
       "      <td>MarketWatch</td>\n",
       "    </tr>\n",
       "    <tr>\n",
       "      <th>4</th>\n",
       "      <td>Just weeks before Memorial Day weekend, the la...</td>\n",
       "      <td>2022-05-11T07:53:17.000Z</td>\n",
       "      <td>MarketWatch</td>\n",
       "    </tr>\n",
       "    <tr>\n",
       "      <th>...</th>\n",
       "      <td>...</td>\n",
       "      <td>...</td>\n",
       "      <td>...</td>\n",
       "    </tr>\n",
       "    <tr>\n",
       "      <th>52128</th>\n",
       "      <td>RT @BBCBreaking: Former Trump adviser Steve Ba...</td>\n",
       "      <td>2020-08-20T13:50:01.000Z</td>\n",
       "      <td>Seana Smith</td>\n",
       "    </tr>\n",
       "    <tr>\n",
       "      <th>52129</th>\n",
       "      <td>RT @YahooFinance: Highlight: \"Much to the dism...</td>\n",
       "      <td>2020-08-20T01:43:32.000Z</td>\n",
       "      <td>Seana Smith</td>\n",
       "    </tr>\n",
       "    <tr>\n",
       "      <th>52130</th>\n",
       "      <td>RT @DeItaOne: KUDLOW SAYS DOES NOT SEE A FEDER...</td>\n",
       "      <td>2020-08-07T14:36:02.000Z</td>\n",
       "      <td>Seana Smith</td>\n",
       "    </tr>\n",
       "    <tr>\n",
       "      <th>52131</th>\n",
       "      <td>BofA: Downgrading $AAPL to Neutral as we view ...</td>\n",
       "      <td>2020-08-05T14:00:46.000Z</td>\n",
       "      <td>Seana Smith</td>\n",
       "    </tr>\n",
       "    <tr>\n",
       "      <th>52132</th>\n",
       "      <td>RT @RyanDetrick: I am scheduled to come up on ...</td>\n",
       "      <td>2020-08-03T19:29:19.000Z</td>\n",
       "      <td>Seana Smith</td>\n",
       "    </tr>\n",
       "  </tbody>\n",
       "</table>\n",
       "<p>52133 rows × 3 columns</p>\n",
       "</div>"
      ],
      "text/plain": [
       "                                                    text  \\\n",
       "0      The list of reasons why the financial market’s...   \n",
       "1      Stablecoin TerraUSD plunges to as low as 30 ce...   \n",
       "2      Stablecoin Terra falls as low as 30 cents on t...   \n",
       "3      It is a good time for the Federal Reserve to “...   \n",
       "4      Just weeks before Memorial Day weekend, the la...   \n",
       "...                                                  ...   \n",
       "52128  RT @BBCBreaking: Former Trump adviser Steve Ba...   \n",
       "52129  RT @YahooFinance: Highlight: \"Much to the dism...   \n",
       "52130  RT @DeItaOne: KUDLOW SAYS DOES NOT SEE A FEDER...   \n",
       "52131  BofA: Downgrading $AAPL to Neutral as we view ...   \n",
       "52132  RT @RyanDetrick: I am scheduled to come up on ...   \n",
       "\n",
       "                           time         user  \n",
       "0      2022-05-11T08:46:29.000Z  MarketWatch  \n",
       "1      2022-05-11T08:36:55.000Z  MarketWatch  \n",
       "2      2022-05-11T08:20:54.000Z  MarketWatch  \n",
       "3      2022-05-11T08:20:40.000Z  MarketWatch  \n",
       "4      2022-05-11T07:53:17.000Z  MarketWatch  \n",
       "...                         ...          ...  \n",
       "52128  2020-08-20T13:50:01.000Z  Seana Smith  \n",
       "52129  2020-08-20T01:43:32.000Z  Seana Smith  \n",
       "52130  2020-08-07T14:36:02.000Z  Seana Smith  \n",
       "52131  2020-08-05T14:00:46.000Z  Seana Smith  \n",
       "52132  2020-08-03T19:29:19.000Z  Seana Smith  \n",
       "\n",
       "[52133 rows x 3 columns]"
      ]
     },
     "execution_count": 7,
     "metadata": {},
     "output_type": "execute_result"
    }
   ],
   "source": [
    "data"
   ]
  },
  {
   "cell_type": "code",
   "execution_count": 8,
   "id": "6a034ee8-3d22-46b5-a70d-2cc5ca5b2133",
   "metadata": {},
   "outputs": [],
   "source": [
    "columns = ['text', 'ticker', 'time', 'user']\n",
    "stock_tweets = []\n",
    "\n",
    "regex = r'(\\$[A-Z]+)'\n",
    "for i,row in data.iterrows():\n",
    "    tickers = re.findall(regex, row['text'])\n",
    "    visited = set()\n",
    "    for t in tickers:\n",
    "        if t in visited:\n",
    "            continue\n",
    "        visited.add(t)\n",
    "        stock_tweets.append([row['text'], t, row['time'], row['user']])"
   ]
  },
  {
   "cell_type": "code",
   "execution_count": 9,
   "id": "25ee18fd-5785-4dd4-881b-21204e972d4c",
   "metadata": {},
   "outputs": [],
   "source": [
    "stock_tweets = pd.DataFrame(stock_tweets, columns=columns)"
   ]
  },
  {
   "cell_type": "code",
   "execution_count": 10,
   "id": "a72d4426-f523-48cf-a49c-af78de76eb15",
   "metadata": {},
   "outputs": [],
   "source": [
    "stock_tweets.time = pd.to_datetime(stock_tweets.time)"
   ]
  },
  {
   "cell_type": "code",
   "execution_count": 11,
   "id": "ad173857-a7c2-4855-b735-c8501d46f376",
   "metadata": {},
   "outputs": [
    {
     "name": "stdout",
     "output_type": "stream",
     "text": [
      "<class 'pandas.core.frame.DataFrame'>\n",
      "RangeIndex: 2357 entries, 0 to 2356\n",
      "Data columns (total 4 columns):\n",
      " #   Column  Non-Null Count  Dtype              \n",
      "---  ------  --------------  -----              \n",
      " 0   text    2357 non-null   object             \n",
      " 1   ticker  2357 non-null   object             \n",
      " 2   time    2357 non-null   datetime64[ns, UTC]\n",
      " 3   user    2357 non-null   object             \n",
      "dtypes: datetime64[ns, UTC](1), object(3)\n",
      "memory usage: 73.8+ KB\n"
     ]
    }
   ],
   "source": [
    "stock_tweets.info()"
   ]
  },
  {
   "cell_type": "markdown",
   "id": "37f991ee-364f-4a59-a2dd-7bbd606443fa",
   "metadata": {},
   "source": [
    "# We will take the standard market open and close times UTC 14:30:00 to 21:00:00"
   ]
  },
  {
   "cell_type": "code",
   "execution_count": 12,
   "id": "c4631857-fc53-4d13-8606-239187ad2e60",
   "metadata": {},
   "outputs": [],
   "source": [
    "MARKET_OPEN = datetime.time()\n",
    "MARKET_CLOSE = datetime.time(21,0,0)"
   ]
  },
  {
   "cell_type": "code",
   "execution_count": 13,
   "id": "1cd7234d-0f40-4606-81ba-21aa0695a6f9",
   "metadata": {},
   "outputs": [],
   "source": [
    "def correct_dates(dt_obj):\n",
    "    if(dt_obj.time() < MARKET_CLOSE):\n",
    "        return dt_obj.date()\n",
    "    timedelta = datetime.timedelta(days=1)\n",
    "    dt_obj += timedelta\n",
    "    return dt_obj.date()"
   ]
  },
  {
   "cell_type": "code",
   "execution_count": 14,
   "id": "dd3d4f8f-9c19-41e3-b148-c225516d798c",
   "metadata": {},
   "outputs": [],
   "source": [
    "stock_tweets['date'] = stock_tweets.time.apply(lambda x : correct_dates(x))"
   ]
  },
  {
   "cell_type": "code",
   "execution_count": 15,
   "id": "be5fcc58-8388-4346-b736-b5894e3f4ba6",
   "metadata": {},
   "outputs": [
    {
     "data": {
      "text/plain": [
       "datetime.date(2022, 5, 10)"
      ]
     },
     "execution_count": 15,
     "metadata": {},
     "output_type": "execute_result"
    }
   ],
   "source": [
    "stock_prices['$TSLA'].loc['2022-05-10'].name.date()"
   ]
  },
  {
   "cell_type": "markdown",
   "id": "be07ad59-0c13-4db3-89f9-71d5e73f2d7b",
   "metadata": {},
   "source": [
    "# Get sentiment scores for all the tweets"
   ]
  },
  {
   "cell_type": "code",
   "execution_count": 16,
   "id": "503d0652-9b0b-4655-a34b-b77834df4ea1",
   "metadata": {},
   "outputs": [],
   "source": [
    "model = SentimentModel.SentimentModel(model_path='models/model', load_model=True)"
   ]
  },
  {
   "cell_type": "code",
   "execution_count": 20,
   "id": "8fa24146-b9be-465d-9936-beb15e97875d",
   "metadata": {},
   "outputs": [],
   "source": [
    "sentiment_labels = ['negative', 'neutral', 'positive']\n",
    "sentiments = pd.DataFrame(model.predict_proba(stock_tweets['text']), columns=sentiment_labels)"
   ]
  },
  {
   "cell_type": "code",
   "execution_count": 21,
   "id": "752af459-2651-45c3-9b1d-e9942350cd16",
   "metadata": {},
   "outputs": [
    {
     "data": {
      "text/html": [
       "<div>\n",
       "<style scoped>\n",
       "    .dataframe tbody tr th:only-of-type {\n",
       "        vertical-align: middle;\n",
       "    }\n",
       "\n",
       "    .dataframe tbody tr th {\n",
       "        vertical-align: top;\n",
       "    }\n",
       "\n",
       "    .dataframe thead th {\n",
       "        text-align: right;\n",
       "    }\n",
       "</style>\n",
       "<table border=\"1\" class=\"dataframe\">\n",
       "  <thead>\n",
       "    <tr style=\"text-align: right;\">\n",
       "      <th></th>\n",
       "      <th>negative</th>\n",
       "      <th>neutral</th>\n",
       "      <th>positive</th>\n",
       "    </tr>\n",
       "  </thead>\n",
       "  <tbody>\n",
       "    <tr>\n",
       "      <th>0</th>\n",
       "      <td>0.006106</td>\n",
       "      <td>0.838109</td>\n",
       "      <td>0.155786</td>\n",
       "    </tr>\n",
       "    <tr>\n",
       "      <th>1</th>\n",
       "      <td>0.030165</td>\n",
       "      <td>0.837477</td>\n",
       "      <td>0.132358</td>\n",
       "    </tr>\n",
       "    <tr>\n",
       "      <th>2</th>\n",
       "      <td>0.000636</td>\n",
       "      <td>0.985662</td>\n",
       "      <td>0.013702</td>\n",
       "    </tr>\n",
       "    <tr>\n",
       "      <th>3</th>\n",
       "      <td>0.905105</td>\n",
       "      <td>0.056764</td>\n",
       "      <td>0.038132</td>\n",
       "    </tr>\n",
       "    <tr>\n",
       "      <th>4</th>\n",
       "      <td>0.054616</td>\n",
       "      <td>0.814632</td>\n",
       "      <td>0.130753</td>\n",
       "    </tr>\n",
       "  </tbody>\n",
       "</table>\n",
       "</div>"
      ],
      "text/plain": [
       "   negative   neutral  positive\n",
       "0  0.006106  0.838109  0.155786\n",
       "1  0.030165  0.837477  0.132358\n",
       "2  0.000636  0.985662  0.013702\n",
       "3  0.905105  0.056764  0.038132\n",
       "4  0.054616  0.814632  0.130753"
      ]
     },
     "execution_count": 21,
     "metadata": {},
     "output_type": "execute_result"
    }
   ],
   "source": [
    "sentiments.head()"
   ]
  },
  {
   "cell_type": "code",
   "execution_count": 22,
   "id": "a8320865-620b-433f-83ab-9633fd012793",
   "metadata": {},
   "outputs": [],
   "source": [
    "stock_tweets = pd.concat([stock_tweets, sentiments], axis=1)"
   ]
  },
  {
   "cell_type": "code",
   "execution_count": 31,
   "id": "a792dfe6-7899-487e-898e-8eaf60937008",
   "metadata": {},
   "outputs": [
    {
     "data": {
      "text/html": [
       "<div>\n",
       "<style scoped>\n",
       "    .dataframe tbody tr th:only-of-type {\n",
       "        vertical-align: middle;\n",
       "    }\n",
       "\n",
       "    .dataframe tbody tr th {\n",
       "        vertical-align: top;\n",
       "    }\n",
       "\n",
       "    .dataframe thead th {\n",
       "        text-align: right;\n",
       "    }\n",
       "</style>\n",
       "<table border=\"1\" class=\"dataframe\">\n",
       "  <thead>\n",
       "    <tr style=\"text-align: right;\">\n",
       "      <th></th>\n",
       "      <th>text</th>\n",
       "      <th>ticker</th>\n",
       "      <th>time</th>\n",
       "      <th>user</th>\n",
       "      <th>date</th>\n",
       "      <th>negative</th>\n",
       "      <th>neutral</th>\n",
       "      <th>positive</th>\n",
       "    </tr>\n",
       "  </thead>\n",
       "  <tbody>\n",
       "    <tr>\n",
       "      <th>1517</th>\n",
       "      <td>@CarlCICahn Dow down 212, $TSLA up as I noted ...</td>\n",
       "      <td>$TSLA</td>\n",
       "      <td>2013-08-15 17:46:46+00:00</td>\n",
       "      <td>Carl C Icahn</td>\n",
       "      <td>2013-08-15</td>\n",
       "      <td>0.001959</td>\n",
       "      <td>0.997392</td>\n",
       "      <td>0.000649</td>\n",
       "    </tr>\n",
       "    <tr>\n",
       "      <th>1515</th>\n",
       "      <td>$AAPL -0.16%, $SPY -1.46%\\nI CAH N</td>\n",
       "      <td>$AAPL</td>\n",
       "      <td>2013-08-15 19:28:33+00:00</td>\n",
       "      <td>Carl C Icahn</td>\n",
       "      <td>2013-08-15</td>\n",
       "      <td>0.088411</td>\n",
       "      <td>0.781266</td>\n",
       "      <td>0.130323</td>\n",
       "    </tr>\n",
       "    <tr>\n",
       "      <th>1514</th>\n",
       "      <td>$AAPL GREEN \\nI print more $$ than Ben C Bernake</td>\n",
       "      <td>$AAPL</td>\n",
       "      <td>2013-08-15 19:31:28+00:00</td>\n",
       "      <td>Carl C Icahn</td>\n",
       "      <td>2013-08-15</td>\n",
       "      <td>0.001520</td>\n",
       "      <td>0.031381</td>\n",
       "      <td>0.967099</td>\n",
       "    </tr>\n",
       "    <tr>\n",
       "      <th>1513</th>\n",
       "      <td>My next bet CHINA MOBILE $CHL Will force them ...</td>\n",
       "      <td>$AAPL</td>\n",
       "      <td>2013-08-15 19:45:06+00:00</td>\n",
       "      <td>Carl C Icahn</td>\n",
       "      <td>2013-08-15</td>\n",
       "      <td>0.119321</td>\n",
       "      <td>0.868312</td>\n",
       "      <td>0.012367</td>\n",
       "    </tr>\n",
       "    <tr>\n",
       "      <th>1512</th>\n",
       "      <td>My next bet CHINA MOBILE $CHL Will force them ...</td>\n",
       "      <td>$CHL</td>\n",
       "      <td>2013-08-15 19:45:06+00:00</td>\n",
       "      <td>Carl C Icahn</td>\n",
       "      <td>2013-08-15</td>\n",
       "      <td>0.119321</td>\n",
       "      <td>0.868312</td>\n",
       "      <td>0.012367</td>\n",
       "    </tr>\n",
       "    <tr>\n",
       "      <th>...</th>\n",
       "      <td>...</td>\n",
       "      <td>...</td>\n",
       "      <td>...</td>\n",
       "      <td>...</td>\n",
       "      <td>...</td>\n",
       "      <td>...</td>\n",
       "      <td>...</td>\n",
       "      <td>...</td>\n",
       "    </tr>\n",
       "    <tr>\n",
       "      <th>2020</th>\n",
       "      <td>At $4.8 million, $XL is just a bit off pace to...</td>\n",
       "      <td>$XL</td>\n",
       "      <td>2022-05-10 21:15:22+00:00</td>\n",
       "      <td>🇺🇦 MuddyWatersResearch</td>\n",
       "      <td>2022-05-11</td>\n",
       "      <td>0.076711</td>\n",
       "      <td>0.007015</td>\n",
       "      <td>0.916275</td>\n",
       "    </tr>\n",
       "    <tr>\n",
       "      <th>1328</th>\n",
       "      <td>$LUNA still crashing https://t.co/1Q0g9PxG4L</td>\n",
       "      <td>$LUNA</td>\n",
       "      <td>2022-05-10 21:52:23+00:00</td>\n",
       "      <td>Joe Weisenthal</td>\n",
       "      <td>2022-05-11</td>\n",
       "      <td>0.870874</td>\n",
       "      <td>0.010608</td>\n",
       "      <td>0.118518</td>\n",
       "    </tr>\n",
       "    <tr>\n",
       "      <th>553</th>\n",
       "      <td>Great numbers from Callaway Golf. I like what ...</td>\n",
       "      <td>$ELY</td>\n",
       "      <td>2022-05-10 22:29:58+00:00</td>\n",
       "      <td>Ross Gerber</td>\n",
       "      <td>2022-05-11</td>\n",
       "      <td>0.001238</td>\n",
       "      <td>0.002129</td>\n",
       "      <td>0.996632</td>\n",
       "    </tr>\n",
       "    <tr>\n",
       "      <th>1327</th>\n",
       "      <td>Want to short $LUNA? Cost to borrow is just 12...</td>\n",
       "      <td>$LUNA</td>\n",
       "      <td>2022-05-10 22:53:27+00:00</td>\n",
       "      <td>Joe Weisenthal</td>\n",
       "      <td>2022-05-11</td>\n",
       "      <td>0.934412</td>\n",
       "      <td>0.006240</td>\n",
       "      <td>0.059348</td>\n",
       "    </tr>\n",
       "    <tr>\n",
       "      <th>1519</th>\n",
       "      <td>According to $SPG CEO David Simon, “most retai...</td>\n",
       "      <td>$SPG</td>\n",
       "      <td>2022-05-10 21:18:52+00:00</td>\n",
       "      <td>Bespoke</td>\n",
       "      <td>2022-05-11</td>\n",
       "      <td>0.049095</td>\n",
       "      <td>0.849913</td>\n",
       "      <td>0.100992</td>\n",
       "    </tr>\n",
       "  </tbody>\n",
       "</table>\n",
       "<p>2357 rows × 8 columns</p>\n",
       "</div>"
      ],
      "text/plain": [
       "                                                   text ticker  \\\n",
       "1517  @CarlCICahn Dow down 212, $TSLA up as I noted ...  $TSLA   \n",
       "1515                 $AAPL -0.16%, $SPY -1.46%\\nI CAH N  $AAPL   \n",
       "1514   $AAPL GREEN \\nI print more $$ than Ben C Bernake  $AAPL   \n",
       "1513  My next bet CHINA MOBILE $CHL Will force them ...  $AAPL   \n",
       "1512  My next bet CHINA MOBILE $CHL Will force them ...   $CHL   \n",
       "...                                                 ...    ...   \n",
       "2020  At $4.8 million, $XL is just a bit off pace to...    $XL   \n",
       "1328       $LUNA still crashing https://t.co/1Q0g9PxG4L  $LUNA   \n",
       "553   Great numbers from Callaway Golf. I like what ...   $ELY   \n",
       "1327  Want to short $LUNA? Cost to borrow is just 12...  $LUNA   \n",
       "1519  According to $SPG CEO David Simon, “most retai...   $SPG   \n",
       "\n",
       "                          time                    user        date  negative  \\\n",
       "1517 2013-08-15 17:46:46+00:00            Carl C Icahn  2013-08-15  0.001959   \n",
       "1515 2013-08-15 19:28:33+00:00            Carl C Icahn  2013-08-15  0.088411   \n",
       "1514 2013-08-15 19:31:28+00:00            Carl C Icahn  2013-08-15  0.001520   \n",
       "1513 2013-08-15 19:45:06+00:00            Carl C Icahn  2013-08-15  0.119321   \n",
       "1512 2013-08-15 19:45:06+00:00            Carl C Icahn  2013-08-15  0.119321   \n",
       "...                        ...                     ...         ...       ...   \n",
       "2020 2022-05-10 21:15:22+00:00  🇺🇦 MuddyWatersResearch  2022-05-11  0.076711   \n",
       "1328 2022-05-10 21:52:23+00:00          Joe Weisenthal  2022-05-11  0.870874   \n",
       "553  2022-05-10 22:29:58+00:00             Ross Gerber  2022-05-11  0.001238   \n",
       "1327 2022-05-10 22:53:27+00:00          Joe Weisenthal  2022-05-11  0.934412   \n",
       "1519 2022-05-10 21:18:52+00:00                 Bespoke  2022-05-11  0.049095   \n",
       "\n",
       "       neutral  positive  \n",
       "1517  0.997392  0.000649  \n",
       "1515  0.781266  0.130323  \n",
       "1514  0.031381  0.967099  \n",
       "1513  0.868312  0.012367  \n",
       "1512  0.868312  0.012367  \n",
       "...        ...       ...  \n",
       "2020  0.007015  0.916275  \n",
       "1328  0.010608  0.118518  \n",
       "553   0.002129  0.996632  \n",
       "1327  0.006240  0.059348  \n",
       "1519  0.849913  0.100992  \n",
       "\n",
       "[2357 rows x 8 columns]"
      ]
     },
     "execution_count": 31,
     "metadata": {},
     "output_type": "execute_result"
    }
   ],
   "source": [
    "stock_tweets.sort_values(['date'])"
   ]
  },
  {
   "cell_type": "code",
   "execution_count": 76,
   "id": "0687a19a-7796-4c84-8a0d-ccfeaba85ca1",
   "metadata": {},
   "outputs": [],
   "source": [
    "def get_date_range(from_date, to_date):\n",
    "    return stock_prices['$TSLA'][(stock_prices['$TSLA'].index.date >= from_date) & (stock_prices['$TSLA'].index.date <= to_date)].index.date"
   ]
  },
  {
   "cell_type": "markdown",
   "id": "3bddd545-643f-471a-9ee2-2eca8a1914a0",
   "metadata": {},
   "source": [
    "# Simulation and Agents"
   ]
  },
  {
   "cell_type": "code",
   "execution_count": 334,
   "id": "4cb2ee1d-6bbd-4618-9596-f8a0b358d518",
   "metadata": {},
   "outputs": [],
   "source": [
    "class AgentRandom:\n",
    "    def __init__(self, tweets, random_state=time.time()):\n",
    "        self.tweets = tweets\n",
    "        random.seed(random_state)\n",
    "    \n",
    "    def get_trades(self, from_date, to_date, portfolio, terminal): # dates must be in datetime.date format\n",
    "        relevant_tweets = self.tweets[(self.tweets.date > from_date) & (self.tweets.date <= to_date)]\n",
    "        \n",
    "        tickers = relevant_tweets.groupby('ticker').mean().index;\n",
    "        \n",
    "        trades = []\n",
    "        for t in tickers:\n",
    "            trades.append([t, random.randrange(0,3), random.random()])\n",
    "        return trades"
   ]
  },
  {
   "cell_type": "code",
   "execution_count": 335,
   "id": "e5ffdc1f-5dab-4436-ba63-a7058c3966cf",
   "metadata": {},
   "outputs": [],
   "source": [
    "class AgentSentiment:\n",
    "    def __init__(self, tweets, window_size = 3):\n",
    "        self.tweets = tweets\n",
    "        self.window_size = window_size\n",
    "    \n",
    "    def get_trades(self, from_date, to_date, portfolio, terminal):\n",
    "        delta = (to_date - from_date).days\n",
    "        from_date -= datetime.timedelta(days=max(0, self.window_size - delta))\n",
    "        relevant_tweets = self.tweets[(self.tweets.date > from_date) & (self.tweets.date <= to_date)]\n",
    "        \n",
    "        trades = []\n",
    "        for ticker, row in relevant_tweets.groupby('ticker').mean().iterrows():\n",
    "            pred = np.argmax(row)\n",
    "            pred_proba = np.max(row)\n",
    "            power = (pred_proba - 0.33)/0.66\n",
    "            # power = 1\n",
    "            trades.append([ticker, pred, power])\n",
    "        return trades"
   ]
  },
  {
   "cell_type": "code",
   "execution_count": 333,
   "id": "e3e02bd5-82a0-49ff-8762-5dc431a9e837",
   "metadata": {},
   "outputs": [
    {
     "data": {
      "text/plain": [
       "[0.1282164603471756, 0.40410739183425903, 0.46767616271972656]"
      ]
     },
     "execution_count": 333,
     "metadata": {},
     "output_type": "execute_result"
    }
   ],
   "source": [
    "list(stock_tweets.groupby('ticker').mean().iloc[0,:])"
   ]
  },
  {
   "cell_type": "code",
   "execution_count": 409,
   "id": "b9ec8416-6d43-4b02-ae15-50a7e2b336fc",
   "metadata": {},
   "outputs": [],
   "source": [
    "%run RLAgent.ipynb\n",
    "class AgentQ:\n",
    "    def __init__(self, tweets, stock_prices, window_size = 3, model_path = None):\n",
    "        self.tweets = tweets\n",
    "        self.stock_prices = stock_prices\n",
    "        self.window_size = window_size\n",
    "        self.previous_state_actions = dict()\n",
    "        self.agent = RLAgent(modelPath = model_path)\n",
    "        self.epsilon = 1.0\n",
    "        self.cum_reward = 0\n",
    "        \n",
    "    def reset_episode(self):\n",
    "        self.previous_state_actions = dict()\n",
    "        self.cum_reward = 0\n",
    "        \n",
    "    def get_trades(self, from_date, to_date, portfolio, terminal):\n",
    "        delta = (to_date - from_date).days\n",
    "        from_date -= datetime.timedelta(days=max(0, self.window_size - delta))\n",
    "        relevant_tweets = self.tweets[(self.tweets.date > from_date) & (self.tweets.date <= to_date)]\n",
    "        \n",
    "        trades = []\n",
    "        state_actions = dict()\n",
    "        for ticker, row in relevant_tweets.groupby('ticker').mean().iterrows():\n",
    "            pred_probs = list(row)\n",
    "            stock_price = 0\n",
    "            portfolio_amount = 0\n",
    "            portfolio_quantity = 0\n",
    "            if(ticker in self.stock_prices and self.stock_prices[ticker][self.stock_prices[ticker].index.date == to_date].shape[0] > 0):\n",
    "                stock_price = self.stock_prices[ticker][self.stock_prices[ticker].index.date == to_date].Close[0]\n",
    "                portfolio_quantity = 0 if ticker not in portfolio else portfolio[ticker]\n",
    "                portfolio_amount = portfolio_quantity * stock_price\n",
    "            state = [portfolio_amount, stock_price, pred_probs[0], pred_probs[1], pred_probs[2]]\n",
    "            action = self.agent.getAction(state, ep=self.epsilon)\n",
    "            state_actions[ticker] = [state, action, portfolio_quantity, stock_price]\n",
    "            trades.append([ticker] + self.agent.parseAction(action))\n",
    "        \n",
    "        for k,v in self.previous_state_actions.items():\n",
    "            if(k not in state_actions):\n",
    "                continue\n",
    "            psq = v[2] # previous stock quantity\n",
    "            psp = v[3] # previous stock price\n",
    "            csq = state_actions[k][2] # current stock quantity\n",
    "            csp = state_actions[k][3] # current price\n",
    "            reward = (csq * csp) - (psq * psp) + max(0, (psq - csq) * csp)\n",
    "            self.cum_reward += reward\n",
    "            self.agent.stateTransition(v[0], v[1], state_actions[k][0], reward, terminal)\n",
    "            self.previous_state_actions[k] = state_actions[k]\n",
    "        \n",
    "        for k,v in state_actions.items():\n",
    "            if(k not in self.previous_state_actions):\n",
    "                self.previous_state_actions[k] = v\n",
    "        return trades"
   ]
  },
  {
   "cell_type": "code",
   "execution_count": 410,
   "id": "230c2d6e-88f7-4317-99bd-f9095f187127",
   "metadata": {},
   "outputs": [],
   "source": [
    "class Simulation:\n",
    "    def __init__(self, start, end, agent, starting_capital=10000):\n",
    "        self.start = start # Should be a datetime.date\n",
    "        self.end = end # Should be a datetime.date\n",
    "        self.agent = agent\n",
    "        self.date_range = get_date_range(start, end)\n",
    "        self.capital = starting_capital\n",
    "        self.portfolio = dict()\n",
    "        self.history = [self.capital]\n",
    "        self.trade_quanta = 1000 # dollars\n",
    "    \n",
    "    def get_portfolio_value(self, date):\n",
    "        value = 0\n",
    "        for tick, amount in self.portfolio.items():\n",
    "            if(tick not in stock_prices or stock_prices[tick][stock_prices[tick].index.date == date].shape[0] == 0):\n",
    "                continue\n",
    "            stock_price = stock_prices[tick][stock_prices[tick].index.date == date].Close[0]\n",
    "            value += (stock_price * amount)\n",
    "        return value\n",
    "    \n",
    "    def simulate(self):\n",
    "        total_buys = 0\n",
    "        total_sells = 0\n",
    "        total_hodl = 0\n",
    "        for i,d in enumerate(self.date_range):\n",
    "            from_date = self.date_range[i - 1] if i > 0 else d - datetime.timedelta(days=1)\n",
    "            to_date = d\n",
    "            \n",
    "            trades = self.agent.get_trades(from_date, to_date, self.portfolio, i == len(self.date_range) - 1)\n",
    "            \n",
    "            for t in trades:\n",
    "                # print(f\"On date {d} for stock {t[0]} doing {t}\")\n",
    "                tick = t[0]\n",
    "                task = t[1]\n",
    "                power = t[2]\n",
    "                \n",
    "                if(tick not in stock_prices):\n",
    "                    continue\n",
    "                if(stock_prices[tick][stock_prices[tick].index.date == d].shape[0] == 0):\n",
    "                    # print(f\"No stock price found for {tick} on date {d}\")\n",
    "                    continue\n",
    "                stock_price = stock_prices[tick][stock_prices[tick].index.date == d].Close[0]\n",
    "                trade_amount = self.trade_quanta * power\n",
    "                stock_quantity = trade_amount / stock_price\n",
    "                \n",
    "                if(task == 0):\n",
    "                    # Sell\n",
    "                    total_sells += 1\n",
    "                    if(tick not in self.portfolio): \n",
    "                        continue\n",
    "                    current_holding = self.portfolio[tick]\n",
    "                    stock_quantity = min(current_holding, stock_quantity)\n",
    "                    current_holding -= stock_quantity\n",
    "                    self.capital += stock_quantity * stock_price\n",
    "                    self.portfolio[tick] = current_holding\n",
    "                elif(task == 2):\n",
    "                    # Buy\n",
    "                    if(tick not in self.portfolio):\n",
    "                        self.portfolio[tick] = 0\n",
    "                    trade_amount = min(self.capital, trade_amount)\n",
    "                    self.portfolio[tick] += trade_amount / stock_price\n",
    "                    self.capital -= trade_amount\n",
    "                    total_buys += 1\n",
    "                else:\n",
    "                    total_hodl += 1\n",
    "            self.history.append(self.capital + self.get_portfolio_value(d))\n",
    "        print(f\"total buys : {total_buys}\\ntotal sells: {total_sells}\\ntotal_holds : {total_hodl}\")"
   ]
  },
  {
   "cell_type": "code",
   "execution_count": 411,
   "id": "4b2fb6f2-ad47-46a5-9be1-fd799c25833d",
   "metadata": {},
   "outputs": [],
   "source": [
    "qAgent = AgentQ(stock_tweets, stock_prices)"
   ]
  },
  {
   "cell_type": "code",
   "execution_count": 412,
   "id": "cc282f46-a9b6-43a1-899b-e2cbdf2fc7d1",
   "metadata": {},
   "outputs": [
    {
     "data": {
      "image/png": "[encoded data removed]",
      "text/plain": [
       "<IPython.core.display.Image object>"
      ]
     },
     "execution_count": 412,
     "metadata": {},
     "output_type": "execute_result"
    }
   ],
   "source": [
    "tf.keras.utils.plot_model(qAgent.agent.model, show_shapes=True)"
   ]
  },
  {
   "cell_type": "code",
   "execution_count": null,
   "id": "cd23ab40-5a3e-497f-ac2e-af4b3b8f2e14",
   "metadata": {},
   "outputs": [
    {
     "name": "stdout",
     "output_type": "stream",
     "text": [
      "total buys : 1133\n",
      "total sells: 1151\n",
      "total_holds : 118\n",
      "Episode 0 for episolon 1.0 reward 75504.5011288246 and final capital 6450.507336628914\n",
      "total buys : 1152\n",
      "total sells: 1129\n",
      "total_holds : 121\n",
      "Episode 1 for episolon 0.995 reward 36023.22000502865 and final capital 6858.6703566651795\n",
      "total buys : 1195\n",
      "total sells: 1100\n",
      "total_holds : 107\n",
      "Episode 2 for episolon 0.990025 reward 41588.32714155258 and final capital 7271.83756061522\n",
      "total buys : 1154\n",
      "total sells: 1147\n",
      "total_holds : 101\n",
      "Episode 3 for episolon 0.985074875 reward 45401.86447565634 and final capital 7015.389436741096\n",
      "total buys : 1171\n",
      "total sells: 1105\n",
      "total_holds : 126\n",
      "Episode 4 for episolon 0.9801495006250001 reward 42315.13046653727 and final capital 6723.268799107603\n",
      "total buys : 1171\n",
      "total sells: 1113\n",
      "total_holds : 118\n",
      "Episode 5 for episolon 0.9752487531218751 reward 56794.780046271575 and final capital 6532.853367470418\n",
      "total buys : 1143\n",
      "total sells: 1128\n",
      "total_holds : 131\n",
      "Episode 6 for episolon 0.9703725093562657 reward 36500.21096910689 and final capital 6500.770084229902\n",
      "total buys : 1180\n",
      "total sells: 1115\n",
      "total_holds : 107\n",
      "Episode 7 for episolon 0.9655206468094844 reward 43440.965469071285 and final capital 7199.757783094071\n",
      "total buys : 1216\n",
      "total sells: 1080\n",
      "total_holds : 106\n",
      "Episode 8 for episolon 0.960693043575437 reward 39211.74048224012 and final capital 7223.2398503634\n",
      "total buys : 1169\n",
      "total sells: 1126\n",
      "total_holds : 107\n",
      "Episode 9 for episolon 0.9558895783575597 reward 33063.587372267524 and final capital 6817.302541452999\n",
      "total buys : 1170\n",
      "total sells: 1122\n",
      "total_holds : 110\n",
      "Episode 10 for episolon 0.9511101304657719 reward 44783.03418359021 and final capital 6738.232548799388\n",
      "Training\n",
      "total buys : 1230\n",
      "total sells: 1073\n",
      "total_holds : 99\n",
      "Episode 11 for episolon 0.946354579813443 reward 44082.90325385751 and final capital 6510.622364665932\n",
      "total buys : 1216\n",
      "total sells: 1093\n",
      "total_holds : 93\n",
      "Episode 12 for episolon 0.9416228069143757 reward 43668.722277181005 and final capital 6308.736761106357\n",
      "total buys : 1154\n",
      "total sells: 1134\n",
      "total_holds : 114\n",
      "Episode 13 for episolon 0.9369146928798039 reward 40228.64679295305 and final capital 7205.142547292708\n",
      "total buys : 1214\n",
      "total sells: 1080\n",
      "total_holds : 108\n",
      "Episode 14 for episolon 0.9322301194154049 reward 44373.831756903375 and final capital 7293.562542490679\n"
     ]
    }
   ],
   "source": [
    "# Training for Q agent\n",
    "NUM_EPISODES = 2000\n",
    "REPLAY_INTERVAL = 10\n",
    "UPDATE_INTERVAL = REPLAY_INTERVAL * 2\n",
    "EPSILON_START = 1.0\n",
    "EPSILON_DECAY = 0.995\n",
    "\n",
    "qAgent.epsilon = EPSILON_START\n",
    "rewards = []\n",
    "histories = []\n",
    "\n",
    "for e in range(NUM_EPISODES):\n",
    "    train = True if (e // REPLAY_INTERVAL > 0 and e % REPLAY_INTERVAL == 0) else False\n",
    "    sim = Simulation(datetime.date(2022, 1, 1), datetime.date(2022, 6, 1), qAgent)\n",
    "    \n",
    "    sim.simulate()\n",
    "    rewards.append(qAgent.cum_reward)\n",
    "    histories.append(sim.history)\n",
    "    \n",
    "    print(f\"Episode {e} for episolon {qAgent.epsilon} reward {rewards[-1]} and final capital {sim.history[-1]}\")\n",
    "    qAgent.epsilon *= EPSILON_DECAY\n",
    "    if(train):\n",
    "        print(\"Training\")\n",
    "        sns.lineplot(x = range(len(rewards)), y = rewards)\n",
    "        plt.savefig(f\"figures/rewards.png\")\n",
    "        plt.clf()\n",
    "        qAgent.agent.replay()\n",
    "        \n",
    "    \n",
    "    if(train and e % UPDATE_INTERVAL == 0):\n",
    "        print(\"Updating and Saving\")\n",
    "        qAgent.agent.updateModel()\n",
    "    qAgent.reset_episode()"
   ]
  },
  {
   "cell_type": "code",
   "execution_count": 387,
   "id": "16980314-023f-46f8-b67c-9e0d7138d0f4",
   "metadata": {},
   "outputs": [],
   "source": [
    "qAgent.reset_episode()\n",
    "qAgent.epsilon = 0"
   ]
  },
  {
   "cell_type": "code",
   "execution_count": 398,
   "id": "b6cf63dc-b1ef-48e1-a799-5ba002d688e8",
   "metadata": {},
   "outputs": [],
   "source": [
    "sim_q = Simulation(datetime.date(2022,1,1), datetime.date(2022,5,1), qAgent)"
   ]
  },
  {
   "cell_type": "code",
   "execution_count": 399,
   "id": "03e33c19-b4d2-44e5-9f14-b419a1797534",
   "metadata": {},
   "outputs": [
    {
     "name": "stdout",
     "output_type": "stream",
     "text": [
      "total buys : 609\n",
      "total sells: 1456\n",
      "total_holds : 0\n"
     ]
    }
   ],
   "source": [
    "sim_q.simulate()"
   ]
  },
  {
   "cell_type": "code",
   "execution_count": 419,
   "id": "56b6aa9c-7c5b-4e12-a376-ead304ea680d",
   "metadata": {},
   "outputs": [
    {
     "data": {
      "text/plain": [
       "<AxesSubplot:title={'center':'Q learning Agent'}, xlabel='Days', ylabel='Value'>"
      ]
     },
     "execution_count": 419,
     "metadata": {},
     "output_type": "execute_result"
    },
    {
     "data": {
      "image/png": "[encoded data removed]",
      "text/plain": [
       "<Figure size 432x288 with 1 Axes>"
      ]
     },
     "metadata": {
      "needs_background": "light"
     },
     "output_type": "display_data"
    }
   ],
   "source": [
    "p = sns.lineplot(x = range(len(sim_q.history)), y = sim_q.history)\n",
    "p.set_xlabel(\"Days\", fontsize = 10)\n",
    "p.set_ylabel(\"Value\", fontsize = 10)\n",
    "p.set_title(\"Q learning Agent\")\n",
    "p"
   ]
  },
  {
   "cell_type": "code",
   "execution_count": 401,
   "id": "87c58bd6-c79a-45f3-81f0-4bc3d2a141eb",
   "metadata": {},
   "outputs": [],
   "source": [
    "sim_random = Simulation(datetime.date(2022,1,1), datetime.date(2022,5,1), AgentRandom(stock_tweets, random_state=time.time()))"
   ]
  },
  {
   "cell_type": "code",
   "execution_count": 402,
   "id": "83968756-6849-434a-806b-14f23bddc5dc",
   "metadata": {},
   "outputs": [
    {
     "name": "stdout",
     "output_type": "stream",
     "text": [
      "total buys : 375\n",
      "total sells: 311\n",
      "total_holds : 354\n"
     ]
    }
   ],
   "source": [
    "sim_random.simulate()"
   ]
  },
  {
   "cell_type": "code",
   "execution_count": 420,
   "id": "d0ca69bc-0cdf-4372-ac14-6223920858f9",
   "metadata": {},
   "outputs": [
    {
     "data": {
      "text/plain": [
       "<AxesSubplot:title={'center':'Random Agent'}, xlabel='Days', ylabel='Value'>"
      ]
     },
     "execution_count": 420,
     "metadata": {},
     "output_type": "execute_result"
    },
    {
     "data": {
      "image/png": "[encoded data removed]",
      "text/plain": [
       "<Figure size 432x288 with 1 Axes>"
      ]
     },
     "metadata": {
      "needs_background": "light"
     },
     "output_type": "display_data"
    }
   ],
   "source": [
    "p = sns.lineplot(x = range(len(sim_random.history)), y = sim_random.history)\n",
    "p.set_xlabel(\"Days\", fontsize = 10)\n",
    "p.set_ylabel(\"Value\", fontsize = 10)\n",
    "p.set_title(\"Random Agent\")\n",
    "p"
   ]
  },
  {
   "cell_type": "code",
   "execution_count": 404,
   "id": "d3e0414b-75d3-4451-bfa8-8ce076636d21",
   "metadata": {},
   "outputs": [],
   "source": [
    "sim_sentiment = Simulation(datetime.date(2022,1,1), datetime.date(2022,5,1), AgentSentiment(stock_tweets, window_size=3))"
   ]
  },
  {
   "cell_type": "code",
   "execution_count": 405,
   "id": "1dfeca33-9d39-4c71-9560-3f15a40c3e5d",
   "metadata": {},
   "outputs": [
    {
     "name": "stdout",
     "output_type": "stream",
     "text": [
      "total buys : 725\n",
      "total sells: 594\n",
      "total_holds : 746\n"
     ]
    }
   ],
   "source": [
    "sim_sentiment.simulate()"
   ]
  },
  {
   "cell_type": "code",
   "execution_count": 421,
   "id": "a22efeb3-00fe-4582-8e90-dfe34f6d847b",
   "metadata": {},
   "outputs": [
    {
     "data": {
      "text/plain": [
       "<AxesSubplot:title={'center':'Sentiment Agent'}, xlabel='Days', ylabel='Value'>"
      ]
     },
     "execution_count": 421,
     "metadata": {},
     "output_type": "execute_result"
    },
    {
     "data": {
      "image/png": "[encoded data removed]",
      "text/plain": [
       "<Figure size 432x288 with 1 Axes>"
      ]
     },
     "metadata": {
      "needs_background": "light"
     },
     "output_type": "display_data"
    }
   ],
   "source": [
    "p = sns.lineplot(x = range(len(sim_sentiment.history)), y = sim_sentiment.history)\n",
    "p.set_xlabel(\"Days\", fontsize = 10)\n",
    "p.set_ylabel(\"Value\", fontsize = 10)\n",
    "p.set_title(\"Sentiment Agent\")\n",
    "p"
   ]
  },
  {
   "cell_type": "code",
   "execution_count": 425,
   "id": "593f2733-e797-42d0-9d51-a998cd31c5f6",
   "metadata": {},
   "outputs": [
    {
     "data": {
      "text/plain": [
       "<AxesSubplot:title={'center':'Comparison'}, xlabel='Days', ylabel='Value'>"
      ]
     },
     "execution_count": 425,
     "metadata": {},
     "output_type": "execute_result"
    },
    {
     "data": {
      "image/png": "[encoded data removed]",
      "text/plain": [
       "<Figure size 432x288 with 1 Axes>"
      ]
     },
     "metadata": {
      "needs_background": "light"
     },
     "output_type": "display_data"
    }
   ],
   "source": [
    "p = sns.lineplot(data = {'random' : sim_random.history, 'q learning' : sim_q.history, 'sentiment' : sim_sentiment.history})\n",
    "\n",
    "p.set_xlabel(\"Days\", fontsize = 10)\n",
    "p.set_ylabel(\"Value\", fontsize = 10)\n",
    "p.set_title(\"Comparison\")\n",
    "p"
   ]
  },
  {
   "cell_type": "code",
   "execution_count": 156,
   "id": "8cc6b23f-ba43-45dd-a567-fa7145cc9192",
   "metadata": {},
   "outputs": [
    {
     "data": {
      "text/plain": [
       "<AxesSubplot:xlabel='date', ylabel='Count'>"
      ]
     },
     "execution_count": 156,
     "metadata": {},
     "output_type": "execute_result"
    },
    {
     "data": {
      "image/png": "[encoded data removed]",
      "text/plain": [
       "<Figure size 432x288 with 1 Axes>"
      ]
     },
     "metadata": {
      "needs_background": "light"
     },
     "output_type": "display_data"
    }
   ],
   "source": [
    "sns.histplot(stock_tweets[stock_tweets.date >= datetime.date(2022,4,1)].date)"
   ]
  },
  {
   "cell_type": "code",
   "execution_count": null,
   "id": "a517ce17-901a-4dcf-9365-c915b80ba4ed",
   "metadata": {},
   "outputs": [
    {
     "data": {
      "text/plain": [
       "(215, 8)"
      ]
     },
     "execution_count": 159,
     "metadata": {},
     "output_type": "execute_result"
    }
   ],
   "source": [
    "stock_tweets[(stock_tweets.date >= datetime.date(2022,2,1)) & (stock_tweets.date < datetime.date(2022,3,1))].shape"
   ]
  },
  {
   "cell_type": "code",
   "execution_count": null,
   "id": "6ca4a1a5-6048-407e-a7ce-99a0e27791a8",
   "metadata": {},
   "outputs": [],
   "source": []
  }
 ],
 "metadata": {
  "kernelspec": {
   "display_name": "Python 3",
   "language": "python",
   "name": "python3"
  },
  "language_info": {
   "codemirror_mode": {
    "name": "ipython",
    "version": 3
   },
   "file_extension": ".py",
   "mimetype": "text/x-python",
   "name": "python",
   "nbconvert_exporter": "python",
   "pygments_lexer": "ipython3",
   "version": "3.8.8"
  }
 },
 "nbformat": 4,
 "nbformat_minor": 5
}
