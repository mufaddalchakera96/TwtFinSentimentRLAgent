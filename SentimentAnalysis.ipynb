{
 "cells": [
  {
   "cell_type": "code",
   "execution_count": 54,
   "id": "2940555c-8a6b-4dde-b983-88b55192fce1",
   "metadata": {},
   "outputs": [
    {
     "name": "stderr",
     "output_type": "stream",
     "text": [
      "[nltk_data] Downloading package punkt to\n",
      "[nltk_data]     C:\\Users\\mj_ch\\AppData\\Roaming\\nltk_data...\n",
      "[nltk_data]   Package punkt is already up-to-date!\n"
     ]
    },
    {
     "data": {
      "text/plain": [
       "True"
      ]
     },
     "execution_count": 54,
     "metadata": {},
     "output_type": "execute_result"
    }
   ],
   "source": [
    "import numpy as np\n",
    "import pandas as pd\n",
    "import os\n",
    "import nltk\n",
    "from sklearn.feature_extraction.text import TfidfVectorizer\n",
    "from sklearn.feature_extraction.text import CountVectorizer\n",
    "from sklearn.model_selection import train_test_split\n",
    "from sklearn.metrics import accuracy_score\n",
    "from sklearn.ensemble import GradientBoostingClassifier\n",
    "from sklearn.ensemble import RandomForestClassifier\n",
    "from xgboost import XGBClassifier\n",
    "import unicodedata\n",
    "import contractions\n",
    "import shap\n",
    "import re\n",
    "import spacy\n",
    "nltk.download('punkt')"
   ]
  },
  {
   "cell_type": "markdown",
   "id": "f6da57a6-cbb2-4377-9a89-f21c10bede3f",
   "metadata": {},
   "source": [
    "# Sentiment : 1 - Negetive, 3 - Neutral, 5 - Positive"
   ]
  },
  {
   "cell_type": "code",
   "execution_count": 55,
   "id": "89199cf1-7883-49b8-824f-cab92565300b",
   "metadata": {},
   "outputs": [],
   "source": [
    "data = pd.read_csv('Apple-Twitter-Sentiment-DFE.csv')\n",
    "data = data[data['sentiment'] != 'not_relevant']"
   ]
  },
  {
   "cell_type": "code",
   "execution_count": 56,
   "id": "52adb918-6e45-4b7f-a26e-373d2d1da895",
   "metadata": {},
   "outputs": [],
   "source": [
    "sentiment_dict = {'1' : \"negative\", '3' : \"neutral\", '5' : \"positive\"}\n",
    "data['sentiment'] = data['sentiment'].apply(lambda x : sentiment_dict[x])"
   ]
  },
  {
   "cell_type": "code",
   "execution_count": 57,
   "id": "a1f6e244-62d7-4660-b586-94da716369f5",
   "metadata": {},
   "outputs": [],
   "source": [
    "data2 = pd.read_csv('tweets/tweets_labelled_09042020_16072020.csv', delimiter=';')\n",
    "data2 = data2[data2.sentiment.isna() == False]"
   ]
  },
  {
   "cell_type": "markdown",
   "id": "6f7662f7-e4d7-40cb-b2b3-76bfe08eded5",
   "metadata": {},
   "source": [
    "## Combine both the data sets"
   ]
  },
  {
   "cell_type": "code",
   "execution_count": 58,
   "id": "e23b5d31-02af-4653-bbe9-bd149f345d01",
   "metadata": {},
   "outputs": [],
   "source": [
    "cols = ['text', 'sentiment']\n",
    "df2 = pd.concat([data[cols], data2[cols]], axis = 0)\n",
    "df2 = df2.reset_index()\n",
    "df2 = df2[['text', 'sentiment']]"
   ]
  },
  {
   "cell_type": "code",
   "execution_count": 59,
   "id": "d7e53de1-4c77-4624-bc0f-89cee225cd59",
   "metadata": {},
   "outputs": [
    {
     "data": {
      "text/html": [
       "<div>\n",
       "<style scoped>\n",
       "    .dataframe tbody tr th:only-of-type {\n",
       "        vertical-align: middle;\n",
       "    }\n",
       "\n",
       "    .dataframe tbody tr th {\n",
       "        vertical-align: top;\n",
       "    }\n",
       "\n",
       "    .dataframe thead th {\n",
       "        text-align: right;\n",
       "    }\n",
       "</style>\n",
       "<table border=\"1\" class=\"dataframe\">\n",
       "  <thead>\n",
       "    <tr style=\"text-align: right;\">\n",
       "      <th></th>\n",
       "      <th>text</th>\n",
       "      <th>sentiment</th>\n",
       "    </tr>\n",
       "  </thead>\n",
       "  <tbody>\n",
       "    <tr>\n",
       "      <th>0</th>\n",
       "      <td>#AAPL:The 10 best Steve Jobs emails ever...htt...</td>\n",
       "      <td>neutral</td>\n",
       "    </tr>\n",
       "    <tr>\n",
       "      <th>1</th>\n",
       "      <td>RT @JPDesloges: Why AAPL Stock Had a Mini-Flas...</td>\n",
       "      <td>neutral</td>\n",
       "    </tr>\n",
       "    <tr>\n",
       "      <th>2</th>\n",
       "      <td>My cat only chews @apple cords. Such an #Apple...</td>\n",
       "      <td>neutral</td>\n",
       "    </tr>\n",
       "    <tr>\n",
       "      <th>3</th>\n",
       "      <td>I agree with @jimcramer that the #IndividualIn...</td>\n",
       "      <td>neutral</td>\n",
       "    </tr>\n",
       "    <tr>\n",
       "      <th>4</th>\n",
       "      <td>Nobody expects the Spanish Inquisition #AAPL</td>\n",
       "      <td>neutral</td>\n",
       "    </tr>\n",
       "  </tbody>\n",
       "</table>\n",
       "</div>"
      ],
      "text/plain": [
       "                                                text sentiment\n",
       "0  #AAPL:The 10 best Steve Jobs emails ever...htt...   neutral\n",
       "1  RT @JPDesloges: Why AAPL Stock Had a Mini-Flas...   neutral\n",
       "2  My cat only chews @apple cords. Such an #Apple...   neutral\n",
       "3  I agree with @jimcramer that the #IndividualIn...   neutral\n",
       "4       Nobody expects the Spanish Inquisition #AAPL   neutral"
      ]
     },
     "execution_count": 59,
     "metadata": {},
     "output_type": "execute_result"
    }
   ],
   "source": [
    "df2.head()"
   ]
  },
  {
   "cell_type": "code",
   "execution_count": 60,
   "id": "da31672c-60c7-4626-b2d7-06a7cbb27aaa",
   "metadata": {},
   "outputs": [
    {
     "data": {
      "text/plain": [
       "(5104, 2)"
      ]
     },
     "execution_count": 60,
     "metadata": {},
     "output_type": "execute_result"
    }
   ],
   "source": [
    "df2.shape"
   ]
  },
  {
   "cell_type": "markdown",
   "id": "015b69d0-496b-4aea-9844-af6962ee3808",
   "metadata": {},
   "source": [
    "## General Twitter Sentiment Analysis Data"
   ]
  },
  {
   "cell_type": "code",
   "execution_count": 61,
   "id": "4032ed1e-a646-48c2-ba8c-87fcc212225c",
   "metadata": {},
   "outputs": [],
   "source": [
    "df = pd.read_csv('twitter_training.csv')\n",
    "df.columns = ['tweet_id', 'entity', 'sentiment', 'text']\n",
    "df = df[df.sentiment != 'Irrelevant']"
   ]
  },
  {
   "cell_type": "code",
   "execution_count": 62,
   "id": "a1ffa3b9-013a-4e37-bc09-6f8946a7b81d",
   "metadata": {},
   "outputs": [],
   "source": [
    "sentiment_dict = {'Negative' : \"negative\", 'Neutral' : \"neutral\", 'Positive' : \"positive\"}\n",
    "df['sentiment'] = df['sentiment'].apply(lambda x : sentiment_dict[x])\n",
    "df = df[cols]"
   ]
  },
  {
   "cell_type": "code",
   "execution_count": 63,
   "id": "55e519f9-e036-40da-a71d-5b3d58852afc",
   "metadata": {},
   "outputs": [
    {
     "data": {
      "text/plain": [
       "((61691, 2), (5104, 2))"
      ]
     },
     "execution_count": 63,
     "metadata": {},
     "output_type": "execute_result"
    }
   ],
   "source": [
    "df.shape, df2.shape"
   ]
  },
  {
   "cell_type": "markdown",
   "id": "9cff875c-16cd-48f0-9b0c-2226233f7a97",
   "metadata": {},
   "source": [
    "# Text cleanup"
   ]
  },
  {
   "cell_type": "code",
   "execution_count": 16,
   "id": "9f68f1a5-3372-440f-99fa-6d51a6225b6a",
   "metadata": {},
   "outputs": [],
   "source": [
    "def preprocess_text(text):\n",
    "    # Remove accents\n",
    "    text = unicodedata.normalize('NFKD', text).encode('ascii', 'ignore').decode('utf-8', 'ignore')\n",
    "    \n",
    "    # Fix contractions\n",
    "    text = contractions.fix(text)\n",
    "    \n",
    "    # Remove URLs\n",
    "    def remove_URL(text):\n",
    "        \"\"\"Remove URLs from a text string\"\"\"\n",
    "        return re.sub(r\"\\S*https?:\\S*\", \"\", text)\n",
    "    \n",
    "    text = remove_URL(text)\n",
    "    \n",
    "    # Remove special characters\n",
    "    def remove_special_characters(text):\n",
    "        # define the pattern to keep\n",
    "        pat = r'[^a-zA-z.,!?/:;\\\"\\'\\s]' \n",
    "        return re.sub(pat, '', text)\n",
    "    \n",
    "    text = remove_special_characters(text)\n",
    "    \n",
    "    # Remove white spaces and convert to lowercase\n",
    "    def remove_extra_whitespace_tabs_lower(text):\n",
    "        pattern = r'^\\s*|\\s\\s*'\n",
    "        return re.sub(pattern, ' ', text).strip().lower()\n",
    "    \n",
    "    text = remove_extra_whitespace_tabs_lower(text)\n",
    "    \n",
    "    return text"
   ]
  },
  {
   "cell_type": "code",
   "execution_count": 64,
   "id": "999e83c4-9f52-4c9f-b7b8-04231de046b9",
   "metadata": {},
   "outputs": [],
   "source": [
    "# Clean the data individually, and split individually\n",
    "# Convert labels to numeric encoded\n",
    "sentiment_dict = {'negative' : 0, 'neutral' : 1, 'positive' : 2}\n",
    "\n",
    "for t in (df, df2):\n",
    "    t['sentiment'] = t['sentiment'].apply(lambda x : sentiment_dict[x])"
   ]
  },
  {
   "cell_type": "code",
   "execution_count": 65,
   "id": "9f26740d-c138-4d40-917c-213c9499e643",
   "metadata": {},
   "outputs": [],
   "source": [
    "X_trains = []\n",
    "X_tests = []\n",
    "Y_trains = []\n",
    "Y_tests = []\n",
    "for t in (df, df2):\n",
    "    x1, x2, y1, y2 = train_test_split(t['text'], t['sentiment'], test_size = 0.2, random_state=123, stratify=t['sentiment'])\n",
    "    X_trains.append(x1)\n",
    "    X_tests.append(x2)\n",
    "    Y_trains.append(y1)\n",
    "    Y_tests.append(y2)"
   ]
  },
  {
   "cell_type": "code",
   "execution_count": 66,
   "id": "752c5827-2320-40b7-a41b-138f49fb7260",
   "metadata": {},
   "outputs": [
    {
     "data": {
      "text/plain": [
       "([(49352,), (4083,)], [(12339,), (1021,)])"
      ]
     },
     "execution_count": 66,
     "metadata": {},
     "output_type": "execute_result"
    }
   ],
   "source": [
    "[t.shape for t in X_trains], [t.shape for t in X_tests]"
   ]
  },
  {
   "cell_type": "code",
   "execution_count": 67,
   "id": "47327135-adf2-46be-ae53-89a0b9df1d3b",
   "metadata": {},
   "outputs": [
    {
     "data": {
      "text/plain": [
       "([(49352,), (4083,)], [(12339,), (1021,)])"
      ]
     },
     "execution_count": 67,
     "metadata": {},
     "output_type": "execute_result"
    }
   ],
   "source": [
    "[t.shape for t in Y_trains], [t.shape for t in Y_tests]"
   ]
  },
  {
   "cell_type": "code",
   "execution_count": 68,
   "id": "e5d032e9-cc52-407b-aed6-1efd55222788",
   "metadata": {},
   "outputs": [],
   "source": [
    "X_train = pd.concat(X_trains, axis=0)"
   ]
  },
  {
   "cell_type": "code",
   "execution_count": 69,
   "id": "4d44476d-a990-4a84-adc6-46a44426ad49",
   "metadata": {},
   "outputs": [],
   "source": [
    "Y_train = pd.concat(Y_trains, axis=0)"
   ]
  },
  {
   "cell_type": "markdown",
   "id": "d891c6b1-1e66-4f80-b48a-256f9801c42f",
   "metadata": {
    "jp-MarkdownHeadingCollapsed": true,
    "tags": []
   },
   "source": [
    "# Tokenization"
   ]
  },
  {
   "cell_type": "code",
   "execution_count": 37,
   "id": "8f74e352-c8c1-4e75-b02e-5a8c3bfaf7e9",
   "metadata": {},
   "outputs": [],
   "source": [
    "def vectorize_raw_text(text, vectorizer = None):\n",
    "    if(vectorizer == None):\n",
    "        vectorizer = TfidfVectorizer(analyzer='word', ngram_range = (1,3), stop_words='english')\n",
    "        vectorizer.fit(text)\n",
    "    dtm = vectorizer.transform(text)\n",
    "    # dtm_df = pd.DataFrame(dtm.toarray(), columns=vectorizer.get_feature_names_out())\n",
    "    return dtm, vectorizer"
   ]
  },
  {
   "cell_type": "code",
   "execution_count": 38,
   "id": "a2795475-cba8-43ff-8a73-bd5aae73b4da",
   "metadata": {},
   "outputs": [],
   "source": [
    "dtm, vectorizer = vectorize_raw_text(df['text'])"
   ]
  },
  {
   "cell_type": "code",
   "execution_count": 39,
   "id": "db683e3e-46ec-48b6-8d54-2b67cab70817",
   "metadata": {},
   "outputs": [
    {
     "data": {
      "text/plain": [
       "(61691, 458055)"
      ]
     },
     "execution_count": 39,
     "metadata": {},
     "output_type": "execute_result"
    }
   ],
   "source": [
    "dtm.shape"
   ]
  },
  {
   "cell_type": "markdown",
   "id": "9fcffa93-999f-43c5-924b-b1d4c86deff4",
   "metadata": {
    "jp-MarkdownHeadingCollapsed": true,
    "tags": []
   },
   "source": [
    "# Model and Train"
   ]
  },
  {
   "cell_type": "code",
   "execution_count": 40,
   "id": "c9f57233-6865-4cbb-9668-dc4392b30554",
   "metadata": {},
   "outputs": [],
   "source": [
    "# Train test split\n",
    "X_train, X_test, Y_train, Y_test = train_test_split(dtm, df['sentiment'], test_size = 0.3, random_state=123, stratify=df['sentiment'])"
   ]
  },
  {
   "cell_type": "code",
   "execution_count": 41,
   "id": "d24beadb-8f02-4e81-9e66-a3d6a419d482",
   "metadata": {},
   "outputs": [
    {
     "data": {
      "text/plain": [
       "(43183, 458055)"
      ]
     },
     "execution_count": 41,
     "metadata": {},
     "output_type": "execute_result"
    }
   ],
   "source": [
    "X_train.shape"
   ]
  },
  {
   "cell_type": "code",
   "execution_count": 42,
   "id": "99225a10-a2ae-41d3-9c05-06d900604b97",
   "metadata": {},
   "outputs": [
    {
     "name": "stderr",
     "output_type": "stream",
     "text": [
      "The use of label encoder in XGBClassifier is deprecated and will be removed in a future release. To remove this warning, do the following: 1) Pass option use_label_encoder=False when constructing XGBClassifier object; and 2) Encode your labels (y) as integers starting with 0, i.e. 0, 1, 2, ..., [num_class - 1].\n"
     ]
    },
    {
     "name": "stdout",
     "output_type": "stream",
     "text": [
      "[16:34:57] WARNING: C:/Users/Administrator/workspace/xgboost-win64_release_1.5.1/src/learner.cc:1115: Starting in XGBoost 1.3.0, the default evaluation metric used with the objective 'multi:softprob' was changed from 'merror' to 'mlogloss'. Explicitly set eval_metric if you'd like to restore the old behavior.\n"
     ]
    },
    {
     "data": {
      "text/plain": [
       "0.7155824508320726"
      ]
     },
     "execution_count": 42,
     "metadata": {},
     "output_type": "execute_result"
    }
   ],
   "source": [
    "model = XGBClassifier()\n",
    "model.fit(X_train, Y_train)\n",
    "model.score(X_test, Y_test)"
   ]
  },
  {
   "cell_type": "code",
   "execution_count": 43,
   "id": "7358310d-78d7-46d9-85fd-bbe6fc762d56",
   "metadata": {},
   "outputs": [
    {
     "data": {
      "text/plain": [
       "0.7682421323205891"
      ]
     },
     "execution_count": 43,
     "metadata": {},
     "output_type": "execute_result"
    }
   ],
   "source": [
    "model.score(X_train, Y_train)"
   ]
  },
  {
   "cell_type": "code",
   "execution_count": 164,
   "id": "10d60ff2-f71a-4b34-9813-606947d128fd",
   "metadata": {},
   "outputs": [
    {
     "data": {
      "text/plain": [
       "neutral     1810\n",
       "negative    1097\n",
       "positive     665\n",
       "Name: sentiment, dtype: int64"
      ]
     },
     "execution_count": 164,
     "metadata": {},
     "output_type": "execute_result"
    }
   ],
   "source": [
    "Y_train.value_counts()"
   ]
  },
  {
   "cell_type": "code",
   "execution_count": 165,
   "id": "ee8e26b1-eac7-4a59-8068-33eb7f7b13ed",
   "metadata": {},
   "outputs": [
    {
     "data": {
      "text/plain": [
       "neutral     776\n",
       "negative    470\n",
       "positive    286\n",
       "Name: sentiment, dtype: int64"
      ]
     },
     "execution_count": 165,
     "metadata": {},
     "output_type": "execute_result"
    }
   ],
   "source": [
    "Y_test.value_counts()"
   ]
  },
  {
   "cell_type": "markdown",
   "id": "d6d74799-8af3-4584-a403-a7ed6851b7bd",
   "metadata": {},
   "source": [
    "# Let's try BERT"
   ]
  },
  {
   "cell_type": "code",
   "execution_count": 32,
   "id": "304e9b36-1e56-4424-b5c3-15524ce19986",
   "metadata": {},
   "outputs": [],
   "source": [
    "import tensorflow as tf\n",
    "import tensorflow_hub as hub\n",
    "import tensorflow_text as text\n",
    "from official.nlp import optimization  # to create AdamW optimizer\n",
    "\n",
    "import matplotlib.pyplot as plt"
   ]
  },
  {
   "cell_type": "markdown",
   "id": "97997ecb-2044-4c8d-b4eb-2bd76a09625b",
   "metadata": {},
   "source": [
    "# Create and Train model"
   ]
  },
  {
   "cell_type": "code",
   "execution_count": 75,
   "id": "490d8f4b-23c3-4c76-a169-f6d7741bf0f3",
   "metadata": {},
   "outputs": [],
   "source": [
    "%load_ext autoreload\n",
    "%autoreload 2"
   ]
  },
  {
   "cell_type": "code",
   "execution_count": 99,
   "id": "1a05b1f8-e671-4634-936d-f718b1d9a393",
   "metadata": {},
   "outputs": [
    {
     "name": "stdout",
     "output_type": "stream",
     "text": [
      "BERT model selected           : https://tfhub.dev/tensorflow/small_bert/bert_en_uncased_L-2_H-128_A-2/1\n",
      "Preprocess model auto-selected: https://tfhub.dev/tensorflow/bert_en_uncased_preprocess/3\n"
     ]
    }
   ],
   "source": [
    "import SentimentModel"
   ]
  },
  {
   "cell_type": "code",
   "execution_count": 87,
   "id": "3170f273-4bf8-4f64-9271-21f98b8cab13",
   "metadata": {},
   "outputs": [],
   "source": [
    "sentimentModel = SentimentModel.SentimentModel(model_path='model.save', n_samples=X_train.shape[0], epochs=40)"
   ]
  },
  {
   "cell_type": "code",
   "execution_count": 36,
   "id": "b57fe814-a775-4ac9-9b09-b7183911770f",
   "metadata": {},
   "outputs": [
    {
     "data": {
      "image/png": "[encoded data removed]",
      "text/plain": [
       "<IPython.core.display.Image object>"
      ]
     },
     "execution_count": 36,
     "metadata": {},
     "output_type": "execute_result"
    }
   ],
   "source": [
    "tf.keras.utils.plot_model(sentimentModel.model, show_shapes=True)"
   ]
  },
  {
   "cell_type": "code",
   "execution_count": 89,
   "id": "b917600b-88c9-4bd1-bab2-7dfcba79cced",
   "metadata": {},
   "outputs": [
    {
     "name": "stdout",
     "output_type": "stream",
     "text": [
      "Epoch 1/40\n",
      "1670/1670 [==============================] - 162s 95ms/step - loss: 1.9018 - sparse_categorical_accuracy: 0.3131 - val_loss: 1.6191 - val_sparse_categorical_accuracy: 0.2969\n",
      "Epoch 2/40\n",
      "1670/1670 [==============================] - 163s 98ms/step - loss: 1.4043 - sparse_categorical_accuracy: 0.3266 - val_loss: 1.0873 - val_sparse_categorical_accuracy: 0.3943\n",
      "Epoch 3/40\n",
      "1670/1670 [==============================] - 156s 94ms/step - loss: 1.1276 - sparse_categorical_accuracy: 0.3926 - val_loss: 1.0200 - val_sparse_categorical_accuracy: 0.5066\n",
      "Epoch 4/40\n",
      "1670/1670 [==============================] - 155s 93ms/step - loss: 1.0703 - sparse_categorical_accuracy: 0.4410 - val_loss: 0.9843 - val_sparse_categorical_accuracy: 0.5417\n",
      "Epoch 5/40\n",
      "1670/1670 [==============================] - 156s 94ms/step - loss: 1.0337 - sparse_categorical_accuracy: 0.4824 - val_loss: 0.9506 - val_sparse_categorical_accuracy: 0.5675\n",
      "Epoch 6/40\n",
      "1670/1670 [==============================] - 159s 95ms/step - loss: 0.9952 - sparse_categorical_accuracy: 0.5186 - val_loss: 0.9108 - val_sparse_categorical_accuracy: 0.5934\n",
      "Epoch 7/40\n",
      "1670/1670 [==============================] - 159s 95ms/step - loss: 0.9552 - sparse_categorical_accuracy: 0.5557 - val_loss: 0.8679 - val_sparse_categorical_accuracy: 0.6153\n",
      "Epoch 8/40\n",
      "1670/1670 [==============================] - 162s 97ms/step - loss: 0.9187 - sparse_categorical_accuracy: 0.5826 - val_loss: 0.8365 - val_sparse_categorical_accuracy: 0.6314\n",
      "Epoch 9/40\n",
      "1670/1670 [==============================] - 167s 100ms/step - loss: 0.8874 - sparse_categorical_accuracy: 0.6057 - val_loss: 0.8127 - val_sparse_categorical_accuracy: 0.6481\n",
      "Epoch 10/40\n",
      "1670/1670 [==============================] - 166s 99ms/step - loss: 0.8658 - sparse_categorical_accuracy: 0.6177 - val_loss: 0.7916 - val_sparse_categorical_accuracy: 0.6587\n",
      "Epoch 11/40\n",
      "1670/1670 [==============================] - 169s 101ms/step - loss: 0.8399 - sparse_categorical_accuracy: 0.6341 - val_loss: 0.7713 - val_sparse_categorical_accuracy: 0.6706\n",
      "Epoch 12/40\n",
      "1670/1670 [==============================] - 171s 103ms/step - loss: 0.8188 - sparse_categorical_accuracy: 0.6452 - val_loss: 0.7521 - val_sparse_categorical_accuracy: 0.6809\n",
      "Epoch 13/40\n",
      "1670/1670 [==============================] - 175s 105ms/step - loss: 0.7997 - sparse_categorical_accuracy: 0.6575 - val_loss: 0.7353 - val_sparse_categorical_accuracy: 0.6882\n",
      "Epoch 14/40\n",
      "1670/1670 [==============================] - 174s 104ms/step - loss: 0.7809 - sparse_categorical_accuracy: 0.6671 - val_loss: 0.7188 - val_sparse_categorical_accuracy: 0.6948\n",
      "Epoch 15/40\n",
      "1670/1670 [==============================] - 174s 104ms/step - loss: 0.7657 - sparse_categorical_accuracy: 0.6742 - val_loss: 0.7041 - val_sparse_categorical_accuracy: 0.6997\n",
      "Epoch 16/40\n",
      "1670/1670 [==============================] - 175s 105ms/step - loss: 0.7453 - sparse_categorical_accuracy: 0.6836 - val_loss: 0.6887 - val_sparse_categorical_accuracy: 0.7088\n",
      "Epoch 17/40\n",
      "1670/1670 [==============================] - 173s 103ms/step - loss: 0.7234 - sparse_categorical_accuracy: 0.6959 - val_loss: 0.6716 - val_sparse_categorical_accuracy: 0.7154\n",
      "Epoch 18/40\n",
      "1670/1670 [==============================] - 173s 103ms/step - loss: 0.7055 - sparse_categorical_accuracy: 0.7052 - val_loss: 0.6548 - val_sparse_categorical_accuracy: 0.7230\n",
      "Epoch 19/40\n",
      "1670/1670 [==============================] - 172s 103ms/step - loss: 0.6882 - sparse_categorical_accuracy: 0.7125 - val_loss: 0.6362 - val_sparse_categorical_accuracy: 0.7326\n",
      "Epoch 20/40\n",
      "1670/1670 [==============================] - 173s 104ms/step - loss: 0.6650 - sparse_categorical_accuracy: 0.7245 - val_loss: 0.6203 - val_sparse_categorical_accuracy: 0.7411\n",
      "Epoch 21/40\n",
      "1670/1670 [==============================] - 173s 104ms/step - loss: 0.6421 - sparse_categorical_accuracy: 0.7358 - val_loss: 0.6013 - val_sparse_categorical_accuracy: 0.7513\n",
      "Epoch 22/40\n",
      "1670/1670 [==============================] - 174s 104ms/step - loss: 0.6212 - sparse_categorical_accuracy: 0.7480 - val_loss: 0.5801 - val_sparse_categorical_accuracy: 0.7616\n",
      "Epoch 23/40\n",
      "1670/1670 [==============================] - 176s 105ms/step - loss: 0.6010 - sparse_categorical_accuracy: 0.7558 - val_loss: 0.5593 - val_sparse_categorical_accuracy: 0.7739\n",
      "Epoch 24/40\n",
      "1670/1670 [==============================] - 167s 100ms/step - loss: 0.5735 - sparse_categorical_accuracy: 0.7676 - val_loss: 0.5466 - val_sparse_categorical_accuracy: 0.7775\n",
      "Epoch 25/40\n",
      "1670/1670 [==============================] - 175s 105ms/step - loss: 0.5506 - sparse_categorical_accuracy: 0.7786 - val_loss: 0.5224 - val_sparse_categorical_accuracy: 0.7877\n",
      "Epoch 26/40\n",
      "1670/1670 [==============================] - 171s 102ms/step - loss: 0.5272 - sparse_categorical_accuracy: 0.7890 - val_loss: 0.5046 - val_sparse_categorical_accuracy: 0.7986\n",
      "Epoch 27/40\n",
      "1670/1670 [==============================] - 178s 107ms/step - loss: 0.5029 - sparse_categorical_accuracy: 0.8001 - val_loss: 0.4848 - val_sparse_categorical_accuracy: 0.8082\n",
      "Epoch 28/40\n",
      "1670/1670 [==============================] - 185s 111ms/step - loss: 0.4821 - sparse_categorical_accuracy: 0.8096 - val_loss: 0.4636 - val_sparse_categorical_accuracy: 0.8172\n",
      "Epoch 29/40\n",
      "1670/1670 [==============================] - 194s 116ms/step - loss: 0.4567 - sparse_categorical_accuracy: 0.8213 - val_loss: 0.4462 - val_sparse_categorical_accuracy: 0.8266\n",
      "Epoch 30/40\n",
      "1670/1670 [==============================] - 192s 115ms/step - loss: 0.4359 - sparse_categorical_accuracy: 0.8274 - val_loss: 0.4318 - val_sparse_categorical_accuracy: 0.8303\n",
      "Epoch 31/40\n",
      "1670/1670 [==============================] - 194s 116ms/step - loss: 0.4170 - sparse_categorical_accuracy: 0.8371 - val_loss: 0.4179 - val_sparse_categorical_accuracy: 0.8384\n",
      "Epoch 32/40\n",
      "1670/1670 [==============================] - 193s 116ms/step - loss: 0.4005 - sparse_categorical_accuracy: 0.8443 - val_loss: 0.4099 - val_sparse_categorical_accuracy: 0.8425\n",
      "Epoch 33/40\n",
      "1670/1670 [==============================] - 195s 117ms/step - loss: 0.3779 - sparse_categorical_accuracy: 0.8528 - val_loss: 0.3992 - val_sparse_categorical_accuracy: 0.8465\n",
      "Epoch 34/40\n",
      "1670/1670 [==============================] - 195s 117ms/step - loss: 0.3612 - sparse_categorical_accuracy: 0.8605 - val_loss: 0.3831 - val_sparse_categorical_accuracy: 0.8530\n",
      "Epoch 35/40\n",
      "1670/1670 [==============================] - 197s 118ms/step - loss: 0.3421 - sparse_categorical_accuracy: 0.8663 - val_loss: 0.3666 - val_sparse_categorical_accuracy: 0.8587\n",
      "Epoch 36/40\n",
      "1670/1670 [==============================] - 201s 121ms/step - loss: 0.3328 - sparse_categorical_accuracy: 0.8709 - val_loss: 0.3542 - val_sparse_categorical_accuracy: 0.8664\n",
      "Epoch 37/40\n",
      "1670/1670 [==============================] - 185s 111ms/step - loss: 0.3170 - sparse_categorical_accuracy: 0.8760 - val_loss: 0.3611 - val_sparse_categorical_accuracy: 0.8671\n",
      "Epoch 38/40\n",
      "1670/1670 [==============================] - 178s 106ms/step - loss: 0.3007 - sparse_categorical_accuracy: 0.8822 - val_loss: 0.3465 - val_sparse_categorical_accuracy: 0.8710\n",
      "Epoch 39/40\n",
      "1670/1670 [==============================] - 177s 106ms/step - loss: 0.2860 - sparse_categorical_accuracy: 0.8871 - val_loss: 0.3360 - val_sparse_categorical_accuracy: 0.8768\n",
      "Epoch 40/40\n",
      "1670/1670 [==============================] - 156s 94ms/step - loss: 0.2762 - sparse_categorical_accuracy: 0.8924 - val_loss: 0.3360 - val_sparse_categorical_accuracy: 0.8782\n"
     ]
    },
    {
     "data": {
      "text/plain": [
       "<keras.callbacks.History at 0x2acb02bee50>"
      ]
     },
     "execution_count": 89,
     "metadata": {},
     "output_type": "execute_result"
    }
   ],
   "source": [
    "history = sentimentModel.fit(X_train, Y_train, epochs=40, validation_data=[X_tests[0], Y_tests[0]])"
   ]
  },
  {
   "cell_type": "code",
   "execution_count": 39,
   "id": "10a61aa3-1df0-4b89-b016-da43ab033235",
   "metadata": {},
   "outputs": [
    {
     "data": {
      "image/png": "[encoded data removed]",
      "text/plain": [
       "<Figure size 432x288 with 1 Axes>"
      ]
     },
     "metadata": {
      "needs_background": "light"
     },
     "output_type": "display_data"
    }
   ],
   "source": [
    "plt.plot(history.history['loss'])\n",
    "plt.plot(history.history['val_loss'])\n",
    "plt.title('model loss')\n",
    "plt.ylabel('loss')\n",
    "plt.xlabel('epoch')\n",
    "plt.legend(['train', 'val'], loc='upper left')\n",
    "plt.show()"
   ]
  },
  {
   "cell_type": "code",
   "execution_count": 90,
   "id": "ea5c59e0-94d8-4d89-a977-d7e3b868481f",
   "metadata": {},
   "outputs": [
    {
     "name": "stdout",
     "output_type": "stream",
     "text": [
      "32/32 [==============================] - 2s 54ms/step - loss: 1.0815 - sparse_categorical_accuracy: 0.6787\n"
     ]
    },
    {
     "data": {
      "text/plain": [
       "[1.0814855098724365, 0.6787463426589966]"
      ]
     },
     "execution_count": 90,
     "metadata": {},
     "output_type": "execute_result"
    }
   ],
   "source": [
    "sentimentModel.evaluate(X_tests[1], Y_tests[1])"
   ]
  },
  {
   "cell_type": "code",
   "execution_count": 95,
   "id": "d3983458-c61a-4bda-9e1a-1291c728197f",
   "metadata": {},
   "outputs": [],
   "source": [
    "sentimentModel.save(path=\"models/model\")"
   ]
  },
  {
   "cell_type": "code",
   "execution_count": null,
   "id": "4eacf67a-0607-49c8-aa94-5dad43bec937",
   "metadata": {},
   "outputs": [],
   "source": []
  }
 ],
 "metadata": {
  "kernelspec": {
   "display_name": "Python 3",
   "language": "python",
   "name": "python3"
  },
  "language_info": {
   "codemirror_mode": {
    "name": "ipython",
    "version": 3
   },
   "file_extension": ".py",
   "mimetype": "text/x-python",
   "name": "python",
   "nbconvert_exporter": "python",
   "pygments_lexer": "ipython3",
   "version": "3.8.8"
  }
 },
 "nbformat": 4,
 "nbformat_minor": 5
}
